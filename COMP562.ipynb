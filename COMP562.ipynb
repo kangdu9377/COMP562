{
  "nbformat": 4,
  "nbformat_minor": 0,
  "metadata": {
    "colab": {
      "name": "COMP562",
      "provenance": [],
      "collapsed_sections": []
    },
    "kernelspec": {
      "name": "python3",
      "display_name": "Python 3"
    },
    "language_info": {
      "name": "python"
    }
  },
  "cells": [
    {
      "cell_type": "markdown",
      "source": [
        "# **COMP 562 Group Project**\n",
        "# **Loan Default Prediction Model**\n",
        "###Kang Du, Jingtong E, Zhengnan Feng, Zihao Fang\n",
        "###730359227, 730352968, 730365307, 730321222\n",
        "\n"
      ],
      "metadata": {
        "id": "NUQsCozDZxZn"
      }
    },
    {
      "cell_type": "markdown",
      "source": [
        "# Set Up:\n",
        "- Import the required libraris to run our Notebook\n",
        "- Mount Google Drive\n",
        "- Pull 'p' Proportion of the Lending Club Dataset \n"
      ],
      "metadata": {
        "id": "tYIXtO52PDpB"
      }
    },
    {
      "cell_type": "code",
      "execution_count": null,
      "metadata": {
        "colab": {
          "base_uri": "https://localhost:8080/"
        },
        "id": "jwS4eTp_W41O",
        "outputId": "d58732d5-baa1-4ea6-ccb5-12bb402093b7"
      },
      "outputs": [
        {
          "output_type": "stream",
          "name": "stdout",
          "text": [
            "Mounted at /content/gdrive\n",
            "/content/gdrive/.shortcut-targets-by-id/1ickds1-sp6iTvfGXu54II22uAER6ronQ/BUSI_488_Team_Assignments/488-Spring2022-TeamAssignment1_Section002-TeamDelta2/Data_Files\n",
            "accepted_2007_to_2018Q4.csv  LCDataDictionary.xlsx  rejected_2007_to_2018Q4.csv\n"
          ]
        }
      ],
      "source": [
        "# Import libraries and mount drive\n",
        "from google.colab import drive\n",
        "import pandas as pd\n",
        "import numpy as np\n",
        "import matplotlib.pyplot as plt\n",
        "import random\n",
        "import seaborn as sns\n",
        "from sklearn.preprocessing import MinMaxScaler, StandardScaler\n",
        "from sklearn.ensemble import RandomForestClassifier\n",
        "from sklearn.metrics import accuracy_score\n",
        "from sklearn.metrics import classification_report\n",
        "from sklearn.metrics import confusion_matrix\n",
        "from sklearn.utils import resample\n",
        "from sklearn.metrics import accuracy_score\n",
        "drive.mount('/content/gdrive')\n",
        "%cd /content/gdrive/MyDrive/BUSI488/BUSI_488_Team_Assignments/488-Spring2022-TeamAssignment1_Section002-TeamDelta2/Data_Files/\n",
        "!ls"
      ]
    },
    {
      "cell_type": "code",
      "source": [
        "#Pulling out p% of the Data Set. We lowered this during our exploratory phase.\n",
        "p = 0.01\n",
        "#Reading the data from 2007 to 2018 \n",
        "data = pd.read_csv(\"accepted_2007_to_2018Q4.csv\", header = 0, skiprows = lambda i: i > 0 and random.random() > p)\n",
        "\n",
        "#56849 rows, 151 variables.\n",
        "print(\"Dataframe shape is\", data.shape)"
      ],
      "metadata": {
        "id": "QX086mMlXu6m",
        "colab": {
          "base_uri": "https://localhost:8080/"
        },
        "outputId": "00466dde-1c6a-4490-a948-c31d64a8a828"
      },
      "execution_count": null,
      "outputs": [
        {
          "output_type": "stream",
          "name": "stdout",
          "text": [
            "Dataframe shape is (22586, 151)\n"
          ]
        },
        {
          "output_type": "stream",
          "name": "stderr",
          "text": [
            "/usr/local/lib/python3.7/dist-packages/IPython/core/interactiveshell.py:2882: DtypeWarning: Columns (19,118) have mixed types.Specify dtype option on import or set low_memory=False.\n",
            "  exec(code_obj, self.user_global_ns, self.user_ns)\n"
          ]
        }
      ]
    },
    {
      "cell_type": "markdown",
      "source": [
        "# Take a cursory examination of our data \n",
        "- Use the head method to display the first 5 observations\n",
        "- Use the describe method to obtain summary statistics on our variables\n",
        "- Initialize 3 lists with each one containing the variables of a speciifc data type"
      ],
      "metadata": {
        "id": "uK-mZAFg4InY"
      }
    },
    {
      "cell_type": "code",
      "source": [
        "#Taking a look at the first five rows from our data \n",
        "data.head()\n"
      ],
      "metadata": {
        "id": "9XdkhgBn4HM3",
        "colab": {
          "base_uri": "https://localhost:8080/",
          "height": 386
        },
        "outputId": "cdd4b319-6453-46fa-e87d-6cb6cb378919"
      },
      "execution_count": null,
      "outputs": [
        {
          "output_type": "execute_result",
          "data": {
            "text/plain": [
              "         id  member_id  loan_amnt  funded_amnt  funded_amnt_inv        term  \\\n",
              "0  68436934        NaN    23975.0      23975.0          23975.0   60 months   \n",
              "1  68565856        NaN     9000.0       9000.0           9000.0   36 months   \n",
              "2  68416679        NaN     8725.0       8725.0           8725.0   36 months   \n",
              "3  68415164        NaN    26250.0      26250.0          26250.0   60 months   \n",
              "4  68232437        NaN    11200.0      11200.0          11200.0   36 months   \n",
              "\n",
              "   int_rate  installment grade sub_grade  ... hardship_payoff_balance_amount  \\\n",
              "0     19.89       633.73     E        E3  ...                            NaN   \n",
              "1      9.17       286.92     B        B2  ...                            NaN   \n",
              "2     11.99       289.76     C        C1  ...                            NaN   \n",
              "3     13.99       610.66     C        C4  ...                            NaN   \n",
              "4      9.17       357.05     B        B2  ...                            NaN   \n",
              "\n",
              "  hardship_last_payment_amount disbursement_method  debt_settlement_flag  \\\n",
              "0                          NaN                Cash                     N   \n",
              "1                          NaN                Cash                     N   \n",
              "2                          NaN                Cash                     N   \n",
              "3                          NaN                Cash                     N   \n",
              "4                          NaN                Cash                     N   \n",
              "\n",
              "  debt_settlement_flag_date settlement_status settlement_date  \\\n",
              "0                       NaN               NaN             NaN   \n",
              "1                       NaN               NaN             NaN   \n",
              "2                       NaN               NaN             NaN   \n",
              "3                       NaN               NaN             NaN   \n",
              "4                       NaN               NaN             NaN   \n",
              "\n",
              "  settlement_amount settlement_percentage settlement_term  \n",
              "0               NaN                   NaN             NaN  \n",
              "1               NaN                   NaN             NaN  \n",
              "2               NaN                   NaN             NaN  \n",
              "3               NaN                   NaN             NaN  \n",
              "4               NaN                   NaN             NaN  \n",
              "\n",
              "[5 rows x 151 columns]"
            ],
            "text/html": [
              "\n",
              "  <div id=\"df-432f9790-7cae-4d92-b0d0-d62ec650136f\">\n",
              "    <div class=\"colab-df-container\">\n",
              "      <div>\n",
              "<style scoped>\n",
              "    .dataframe tbody tr th:only-of-type {\n",
              "        vertical-align: middle;\n",
              "    }\n",
              "\n",
              "    .dataframe tbody tr th {\n",
              "        vertical-align: top;\n",
              "    }\n",
              "\n",
              "    .dataframe thead th {\n",
              "        text-align: right;\n",
              "    }\n",
              "</style>\n",
              "<table border=\"1\" class=\"dataframe\">\n",
              "  <thead>\n",
              "    <tr style=\"text-align: right;\">\n",
              "      <th></th>\n",
              "      <th>id</th>\n",
              "      <th>member_id</th>\n",
              "      <th>loan_amnt</th>\n",
              "      <th>funded_amnt</th>\n",
              "      <th>funded_amnt_inv</th>\n",
              "      <th>term</th>\n",
              "      <th>int_rate</th>\n",
              "      <th>installment</th>\n",
              "      <th>grade</th>\n",
              "      <th>sub_grade</th>\n",
              "      <th>...</th>\n",
              "      <th>hardship_payoff_balance_amount</th>\n",
              "      <th>hardship_last_payment_amount</th>\n",
              "      <th>disbursement_method</th>\n",
              "      <th>debt_settlement_flag</th>\n",
              "      <th>debt_settlement_flag_date</th>\n",
              "      <th>settlement_status</th>\n",
              "      <th>settlement_date</th>\n",
              "      <th>settlement_amount</th>\n",
              "      <th>settlement_percentage</th>\n",
              "      <th>settlement_term</th>\n",
              "    </tr>\n",
              "  </thead>\n",
              "  <tbody>\n",
              "    <tr>\n",
              "      <th>0</th>\n",
              "      <td>68436934</td>\n",
              "      <td>NaN</td>\n",
              "      <td>23975.0</td>\n",
              "      <td>23975.0</td>\n",
              "      <td>23975.0</td>\n",
              "      <td>60 months</td>\n",
              "      <td>19.89</td>\n",
              "      <td>633.73</td>\n",
              "      <td>E</td>\n",
              "      <td>E3</td>\n",
              "      <td>...</td>\n",
              "      <td>NaN</td>\n",
              "      <td>NaN</td>\n",
              "      <td>Cash</td>\n",
              "      <td>N</td>\n",
              "      <td>NaN</td>\n",
              "      <td>NaN</td>\n",
              "      <td>NaN</td>\n",
              "      <td>NaN</td>\n",
              "      <td>NaN</td>\n",
              "      <td>NaN</td>\n",
              "    </tr>\n",
              "    <tr>\n",
              "      <th>1</th>\n",
              "      <td>68565856</td>\n",
              "      <td>NaN</td>\n",
              "      <td>9000.0</td>\n",
              "      <td>9000.0</td>\n",
              "      <td>9000.0</td>\n",
              "      <td>36 months</td>\n",
              "      <td>9.17</td>\n",
              "      <td>286.92</td>\n",
              "      <td>B</td>\n",
              "      <td>B2</td>\n",
              "      <td>...</td>\n",
              "      <td>NaN</td>\n",
              "      <td>NaN</td>\n",
              "      <td>Cash</td>\n",
              "      <td>N</td>\n",
              "      <td>NaN</td>\n",
              "      <td>NaN</td>\n",
              "      <td>NaN</td>\n",
              "      <td>NaN</td>\n",
              "      <td>NaN</td>\n",
              "      <td>NaN</td>\n",
              "    </tr>\n",
              "    <tr>\n",
              "      <th>2</th>\n",
              "      <td>68416679</td>\n",
              "      <td>NaN</td>\n",
              "      <td>8725.0</td>\n",
              "      <td>8725.0</td>\n",
              "      <td>8725.0</td>\n",
              "      <td>36 months</td>\n",
              "      <td>11.99</td>\n",
              "      <td>289.76</td>\n",
              "      <td>C</td>\n",
              "      <td>C1</td>\n",
              "      <td>...</td>\n",
              "      <td>NaN</td>\n",
              "      <td>NaN</td>\n",
              "      <td>Cash</td>\n",
              "      <td>N</td>\n",
              "      <td>NaN</td>\n",
              "      <td>NaN</td>\n",
              "      <td>NaN</td>\n",
              "      <td>NaN</td>\n",
              "      <td>NaN</td>\n",
              "      <td>NaN</td>\n",
              "    </tr>\n",
              "    <tr>\n",
              "      <th>3</th>\n",
              "      <td>68415164</td>\n",
              "      <td>NaN</td>\n",
              "      <td>26250.0</td>\n",
              "      <td>26250.0</td>\n",
              "      <td>26250.0</td>\n",
              "      <td>60 months</td>\n",
              "      <td>13.99</td>\n",
              "      <td>610.66</td>\n",
              "      <td>C</td>\n",
              "      <td>C4</td>\n",
              "      <td>...</td>\n",
              "      <td>NaN</td>\n",
              "      <td>NaN</td>\n",
              "      <td>Cash</td>\n",
              "      <td>N</td>\n",
              "      <td>NaN</td>\n",
              "      <td>NaN</td>\n",
              "      <td>NaN</td>\n",
              "      <td>NaN</td>\n",
              "      <td>NaN</td>\n",
              "      <td>NaN</td>\n",
              "    </tr>\n",
              "    <tr>\n",
              "      <th>4</th>\n",
              "      <td>68232437</td>\n",
              "      <td>NaN</td>\n",
              "      <td>11200.0</td>\n",
              "      <td>11200.0</td>\n",
              "      <td>11200.0</td>\n",
              "      <td>36 months</td>\n",
              "      <td>9.17</td>\n",
              "      <td>357.05</td>\n",
              "      <td>B</td>\n",
              "      <td>B2</td>\n",
              "      <td>...</td>\n",
              "      <td>NaN</td>\n",
              "      <td>NaN</td>\n",
              "      <td>Cash</td>\n",
              "      <td>N</td>\n",
              "      <td>NaN</td>\n",
              "      <td>NaN</td>\n",
              "      <td>NaN</td>\n",
              "      <td>NaN</td>\n",
              "      <td>NaN</td>\n",
              "      <td>NaN</td>\n",
              "    </tr>\n",
              "  </tbody>\n",
              "</table>\n",
              "<p>5 rows × 151 columns</p>\n",
              "</div>\n",
              "      <button class=\"colab-df-convert\" onclick=\"convertToInteractive('df-432f9790-7cae-4d92-b0d0-d62ec650136f')\"\n",
              "              title=\"Convert this dataframe to an interactive table.\"\n",
              "              style=\"display:none;\">\n",
              "        \n",
              "  <svg xmlns=\"http://www.w3.org/2000/svg\" height=\"24px\"viewBox=\"0 0 24 24\"\n",
              "       width=\"24px\">\n",
              "    <path d=\"M0 0h24v24H0V0z\" fill=\"none\"/>\n",
              "    <path d=\"M18.56 5.44l.94 2.06.94-2.06 2.06-.94-2.06-.94-.94-2.06-.94 2.06-2.06.94zm-11 1L8.5 8.5l.94-2.06 2.06-.94-2.06-.94L8.5 2.5l-.94 2.06-2.06.94zm10 10l.94 2.06.94-2.06 2.06-.94-2.06-.94-.94-2.06-.94 2.06-2.06.94z\"/><path d=\"M17.41 7.96l-1.37-1.37c-.4-.4-.92-.59-1.43-.59-.52 0-1.04.2-1.43.59L10.3 9.45l-7.72 7.72c-.78.78-.78 2.05 0 2.83L4 21.41c.39.39.9.59 1.41.59.51 0 1.02-.2 1.41-.59l7.78-7.78 2.81-2.81c.8-.78.8-2.07 0-2.86zM5.41 20L4 18.59l7.72-7.72 1.47 1.35L5.41 20z\"/>\n",
              "  </svg>\n",
              "      </button>\n",
              "      \n",
              "  <style>\n",
              "    .colab-df-container {\n",
              "      display:flex;\n",
              "      flex-wrap:wrap;\n",
              "      gap: 12px;\n",
              "    }\n",
              "\n",
              "    .colab-df-convert {\n",
              "      background-color: #E8F0FE;\n",
              "      border: none;\n",
              "      border-radius: 50%;\n",
              "      cursor: pointer;\n",
              "      display: none;\n",
              "      fill: #1967D2;\n",
              "      height: 32px;\n",
              "      padding: 0 0 0 0;\n",
              "      width: 32px;\n",
              "    }\n",
              "\n",
              "    .colab-df-convert:hover {\n",
              "      background-color: #E2EBFA;\n",
              "      box-shadow: 0px 1px 2px rgba(60, 64, 67, 0.3), 0px 1px 3px 1px rgba(60, 64, 67, 0.15);\n",
              "      fill: #174EA6;\n",
              "    }\n",
              "\n",
              "    [theme=dark] .colab-df-convert {\n",
              "      background-color: #3B4455;\n",
              "      fill: #D2E3FC;\n",
              "    }\n",
              "\n",
              "    [theme=dark] .colab-df-convert:hover {\n",
              "      background-color: #434B5C;\n",
              "      box-shadow: 0px 1px 3px 1px rgba(0, 0, 0, 0.15);\n",
              "      filter: drop-shadow(0px 1px 2px rgba(0, 0, 0, 0.3));\n",
              "      fill: #FFFFFF;\n",
              "    }\n",
              "  </style>\n",
              "\n",
              "      <script>\n",
              "        const buttonEl =\n",
              "          document.querySelector('#df-432f9790-7cae-4d92-b0d0-d62ec650136f button.colab-df-convert');\n",
              "        buttonEl.style.display =\n",
              "          google.colab.kernel.accessAllowed ? 'block' : 'none';\n",
              "\n",
              "        async function convertToInteractive(key) {\n",
              "          const element = document.querySelector('#df-432f9790-7cae-4d92-b0d0-d62ec650136f');\n",
              "          const dataTable =\n",
              "            await google.colab.kernel.invokeFunction('convertToInteractive',\n",
              "                                                     [key], {});\n",
              "          if (!dataTable) return;\n",
              "\n",
              "          const docLinkHtml = 'Like what you see? Visit the ' +\n",
              "            '<a target=\"_blank\" href=https://colab.research.google.com/notebooks/data_table.ipynb>data table notebook</a>'\n",
              "            + ' to learn more about interactive tables.';\n",
              "          element.innerHTML = '';\n",
              "          dataTable['output_type'] = 'display_data';\n",
              "          await google.colab.output.renderOutput(dataTable, element);\n",
              "          const docLink = document.createElement('div');\n",
              "          docLink.innerHTML = docLinkHtml;\n",
              "          element.appendChild(docLink);\n",
              "        }\n",
              "      </script>\n",
              "    </div>\n",
              "  </div>\n",
              "  "
            ]
          },
          "metadata": {},
          "execution_count": 6
        }
      ]
    },
    {
      "cell_type": "markdown",
      "source": [
        "# Variable Selection\n",
        "- We looked at the description of each variable in the codebook provided and narrowed down the data to just include features of concern\n",
        "\n",
        "- Engineer the 'Fico' varaiable from the borrower's Fico score range "
      ],
      "metadata": {
        "id": "quo1gDv4tVqc"
      }
    },
    {
      "cell_type": "code",
      "source": [
        "#Chosen features\n",
        "cols = ['open_acc','funded_amnt', 'int_rate','term','verification_status','annual_inc',\t'dti',\t'installment',\t'application_type',\t'emp_length',\t'grade','sub_grade',\t'home_ownership',\t'loan_status',\t'fico_range_high','fico_range_low','issue_d']\n",
        "#Print out the cols to ensure the list was properly initialized\n",
        "cols"
      ],
      "metadata": {
        "id": "DLGPy7U7tZG4",
        "colab": {
          "base_uri": "https://localhost:8080/"
        },
        "outputId": "140dfb07-46c2-4174-bf19-6287b97ab0e0"
      },
      "execution_count": null,
      "outputs": [
        {
          "output_type": "execute_result",
          "data": {
            "text/plain": [
              "['open_acc',\n",
              " 'funded_amnt',\n",
              " 'int_rate',\n",
              " 'term',\n",
              " 'verification_status',\n",
              " 'annual_inc',\n",
              " 'dti',\n",
              " 'installment',\n",
              " 'application_type',\n",
              " 'emp_length',\n",
              " 'grade',\n",
              " 'sub_grade',\n",
              " 'home_ownership',\n",
              " 'loan_status',\n",
              " 'fico_range_high',\n",
              " 'fico_range_low',\n",
              " 'issue_d']"
            ]
          },
          "metadata": {},
          "execution_count": 7
        }
      ]
    },
    {
      "cell_type": "code",
      "source": [
        "#Makes a copy of the data with only the columns we are interested in\n",
        "data = data[cols].copy()"
      ],
      "metadata": {
        "id": "GXcXSgOBxtNA"
      },
      "execution_count": null,
      "outputs": []
    },
    {
      "cell_type": "code",
      "source": [
        "#Since each borrower's fico score is set within a range, we averaged the upper and lower bound\n",
        "data['fico'] = (data['fico_range_high'] + data['fico_range_low'])/2\n",
        "#Drop the upper and lower fico bound variables\n",
        "data = data.drop(['fico_range_high', 'fico_range_low'], axis = 1)"
      ],
      "metadata": {
        "id": "hvXXButLyvCt"
      },
      "execution_count": null,
      "outputs": []
    },
    {
      "cell_type": "code",
      "source": [
        "#Identifying the variables that are object data types\n",
        "object_types = [column for column in data.columns if data[column].dtype == 'object']\n",
        "#Identifying the variables that are float data types\n",
        "float_types = [column for column in data.columns if data[column].dtype == 'float64']\n",
        "#Print out the variables that are object data types\n",
        "print(\"Object Type Variables: \",object_types)\n",
        "#Print out the variables that are float data types\n",
        "print(\"Float 64 Type Variables: \",float_types)"
      ],
      "metadata": {
        "id": "kRqkQ03hzpIq",
        "colab": {
          "base_uri": "https://localhost:8080/"
        },
        "outputId": "135ce032-5ed3-4b71-eba5-fecf348b82f0"
      },
      "execution_count": null,
      "outputs": [
        {
          "output_type": "stream",
          "name": "stdout",
          "text": [
            "Object Type Variables:  ['term', 'verification_status', 'application_type', 'emp_length', 'grade', 'sub_grade', 'home_ownership', 'loan_status', 'issue_d']\n",
            "Float 64 Type Variables:  ['open_acc', 'funded_amnt', 'int_rate', 'annual_inc', 'dti', 'installment', 'fico']\n"
          ]
        }
      ]
    },
    {
      "cell_type": "code",
      "source": [
        "#Keeping above variables but dropping issue_d\n",
        "categorical_features = data.select_dtypes(include=['object', 'category']).drop(['issue_d'], axis=1).columns\n",
        "#Printing out the categorical_features\n",
        "print(categorical_features)"
      ],
      "metadata": {
        "id": "aP7X-pOM0MoU",
        "colab": {
          "base_uri": "https://localhost:8080/"
        },
        "outputId": "6bce9c21-5599-42af-af49-9b4044a689cd"
      },
      "execution_count": null,
      "outputs": [
        {
          "output_type": "stream",
          "name": "stdout",
          "text": [
            "Index(['term', 'verification_status', 'application_type', 'emp_length',\n",
            "       'grade', 'sub_grade', 'home_ownership', 'loan_status'],\n",
            "      dtype='object')\n"
          ]
        }
      ]
    },
    {
      "cell_type": "code",
      "source": [
        "#A for loop which is converting the object type variables(categorical) into category data types\n",
        "for col in categorical_features.tolist():\n",
        "  #Reassign the variables in our dataset as a category\n",
        "        data[col] = data[col].astype('category')\n",
        "\n",
        "#Getting the data types gfor each variabel in the data frame to ensure changes are made\n",
        "data.info()"
      ],
      "metadata": {
        "id": "g9J9MSRf12YN",
        "colab": {
          "base_uri": "https://localhost:8080/"
        },
        "outputId": "c30fcf50-c2d8-494e-b5a3-a837148d0ce6"
      },
      "execution_count": null,
      "outputs": [
        {
          "output_type": "stream",
          "name": "stdout",
          "text": [
            "<class 'pandas.core.frame.DataFrame'>\n",
            "RangeIndex: 22586 entries, 0 to 22585\n",
            "Data columns (total 16 columns):\n",
            " #   Column               Non-Null Count  Dtype   \n",
            "---  ------               --------------  -----   \n",
            " 0   open_acc             22586 non-null  float64 \n",
            " 1   funded_amnt          22586 non-null  float64 \n",
            " 2   int_rate             22586 non-null  float64 \n",
            " 3   term                 22586 non-null  category\n",
            " 4   verification_status  22586 non-null  category\n",
            " 5   annual_inc           22586 non-null  float64 \n",
            " 6   dti                  22578 non-null  float64 \n",
            " 7   installment          22586 non-null  float64 \n",
            " 8   application_type     22586 non-null  category\n",
            " 9   emp_length           21115 non-null  category\n",
            " 10  grade                22586 non-null  category\n",
            " 11  sub_grade            22586 non-null  category\n",
            " 12  home_ownership       22586 non-null  category\n",
            " 13  loan_status          22586 non-null  category\n",
            " 14  issue_d              22586 non-null  object  \n",
            " 15  fico                 22586 non-null  float64 \n",
            "dtypes: category(8), float64(7), object(1)\n",
            "memory usage: 1.6+ MB\n"
          ]
        }
      ]
    },
    {
      "cell_type": "code",
      "source": [
        "#Checking to see what verification status incorporates\n",
        "data['verification_status'].unique()\n",
        "#Current data columns \n",
        "data.columns\n",
        "#Data types of the current data columns\n",
        "data.info()"
      ],
      "metadata": {
        "id": "oQ2qHW0q4EQ_",
        "colab": {
          "base_uri": "https://localhost:8080/"
        },
        "outputId": "e50b5811-bc14-45e7-d18f-ce53ab5ad09b"
      },
      "execution_count": null,
      "outputs": [
        {
          "output_type": "stream",
          "name": "stdout",
          "text": [
            "<class 'pandas.core.frame.DataFrame'>\n",
            "RangeIndex: 22586 entries, 0 to 22585\n",
            "Data columns (total 16 columns):\n",
            " #   Column               Non-Null Count  Dtype   \n",
            "---  ------               --------------  -----   \n",
            " 0   open_acc             22586 non-null  float64 \n",
            " 1   funded_amnt          22586 non-null  float64 \n",
            " 2   int_rate             22586 non-null  float64 \n",
            " 3   term                 22586 non-null  category\n",
            " 4   verification_status  22586 non-null  category\n",
            " 5   annual_inc           22586 non-null  float64 \n",
            " 6   dti                  22578 non-null  float64 \n",
            " 7   installment          22586 non-null  float64 \n",
            " 8   application_type     22586 non-null  category\n",
            " 9   emp_length           21115 non-null  category\n",
            " 10  grade                22586 non-null  category\n",
            " 11  sub_grade            22586 non-null  category\n",
            " 12  home_ownership       22586 non-null  category\n",
            " 13  loan_status          22586 non-null  category\n",
            " 14  issue_d              22586 non-null  object  \n",
            " 15  fico                 22586 non-null  float64 \n",
            "dtypes: category(8), float64(7), object(1)\n",
            "memory usage: 1.6+ MB\n"
          ]
        }
      ]
    },
    {
      "cell_type": "markdown",
      "source": [
        "# Addressing how issue date and loan term are recorded for each case\n",
        "- these two features include a str prefix or suffix. We need to remove these portions of the data in order to be able to type cast these variables as type int. \n",
        "    - this is done through engineering the 'issue_yr' and overridiing the 'term' feature's data\n",
        "- drop the cases where there is not any data in 'issue_yr'"
      ],
      "metadata": {
        "id": "9ssPyis8stIN"
      }
    },
    {
      "cell_type": "code",
      "source": [
        "#Identifying what term incorporates\n",
        "data['term']"
      ],
      "metadata": {
        "id": "y8u2k7epZ491",
        "colab": {
          "base_uri": "https://localhost:8080/"
        },
        "outputId": "ea2900af-c7f9-4860-fdd6-13d66be85e10"
      },
      "execution_count": null,
      "outputs": [
        {
          "output_type": "execute_result",
          "data": {
            "text/plain": [
              "0         60 months\n",
              "1         36 months\n",
              "2         36 months\n",
              "3         60 months\n",
              "4         36 months\n",
              "            ...    \n",
              "22581     60 months\n",
              "22582     60 months\n",
              "22583     36 months\n",
              "22584     60 months\n",
              "22585     60 months\n",
              "Name: term, Length: 22586, dtype: category\n",
              "Categories (2, object): [' 36 months', ' 60 months']"
            ]
          },
          "metadata": {},
          "execution_count": 14
        }
      ]
    },
    {
      "cell_type": "code",
      "source": [
        "#Create new variable issue year where we drop the month. For example, change dec-2012 to just 2012.\n",
        "data[\"issue_yr\"] = data[\"issue_d\"].str[4:]\n",
        "#Looking at term. \n",
        "data['term'] = data['term'].str[:3]\n",
        "#Pulling the head on first 20 rows\n",
        "data.head(20)\n",
        "#Taking the sum of the rows with empty observations \n",
        "data.isna().sum()"
      ],
      "metadata": {
        "id": "JeN1acKuZlrL",
        "colab": {
          "base_uri": "https://localhost:8080/"
        },
        "outputId": "f1c27ddc-390c-4d15-a6cd-3e7000c9fb89"
      },
      "execution_count": null,
      "outputs": [
        {
          "output_type": "execute_result",
          "data": {
            "text/plain": [
              "open_acc                  0\n",
              "funded_amnt               0\n",
              "int_rate                  0\n",
              "term                      0\n",
              "verification_status       0\n",
              "annual_inc                0\n",
              "dti                       8\n",
              "installment               0\n",
              "application_type          0\n",
              "emp_length             1471\n",
              "grade                     0\n",
              "sub_grade                 0\n",
              "home_ownership            0\n",
              "loan_status               0\n",
              "issue_d                   0\n",
              "fico                      0\n",
              "issue_yr                  0\n",
              "dtype: int64"
            ]
          },
          "metadata": {},
          "execution_count": 15
        }
      ]
    },
    {
      "cell_type": "code",
      "source": [
        "#Identifying the sum of missing values in issue_yr \n",
        "print(data[\"issue_yr\"].isna().sum())\n",
        "#Store cases where issue year is na in drop_dt\n",
        "drop_dt = data[data['issue_yr'].isna()]\n",
        "#Overide data by dropping where issue year is na\n",
        "data = data.drop(drop_dt.index)"
      ],
      "metadata": {
        "id": "LLV7kVaOissa",
        "colab": {
          "base_uri": "https://localhost:8080/"
        },
        "outputId": "afc1842e-c192-4067-ca64-9fa9705f13f9"
      },
      "execution_count": null,
      "outputs": [
        {
          "output_type": "stream",
          "name": "stdout",
          "text": [
            "0\n"
          ]
        }
      ]
    },
    {
      "cell_type": "code",
      "source": [
        "#Confirming the Na's are dropped in issue_yr\n",
        "data[\"issue_yr\"].isna().sum()"
      ],
      "metadata": {
        "id": "hBM8YmHFpZEW",
        "colab": {
          "base_uri": "https://localhost:8080/"
        },
        "outputId": "c8ecbdb1-6850-4d94-b009-9efe57b9a6c1"
      },
      "execution_count": null,
      "outputs": [
        {
          "output_type": "execute_result",
          "data": {
            "text/plain": [
              "0"
            ]
          },
          "metadata": {},
          "execution_count": 17
        }
      ]
    },
    {
      "cell_type": "code",
      "source": [
        "#Convert issue_yr to data type integer\n",
        "data[\"issue_yr\"].astype(\"int\")\n",
        "#Convert term to data type integer\n",
        "data['term'].astype('int')\n",
        "#Check data type on issue year\n",
        "data[\"issue_yr\"].dtypes"
      ],
      "metadata": {
        "id": "MxnlXinrdC9T",
        "colab": {
          "base_uri": "https://localhost:8080/"
        },
        "outputId": "f457498a-1c63-47d9-dc7a-c4b639c2588f"
      },
      "execution_count": null,
      "outputs": [
        {
          "output_type": "execute_result",
          "data": {
            "text/plain": [
              "dtype('O')"
            ]
          },
          "metadata": {},
          "execution_count": 18
        }
      ]
    },
    {
      "cell_type": "code",
      "source": [
        "#Checking what is in issue year\n",
        "data[\"issue_yr\"]"
      ],
      "metadata": {
        "id": "HPMiYxh_kdE_",
        "colab": {
          "base_uri": "https://localhost:8080/"
        },
        "outputId": "472bead0-484b-4cde-d179-eceed90298ac"
      },
      "execution_count": null,
      "outputs": [
        {
          "output_type": "execute_result",
          "data": {
            "text/plain": [
              "0        2015\n",
              "1        2015\n",
              "2        2015\n",
              "3        2015\n",
              "4        2015\n",
              "         ... \n",
              "22581    2016\n",
              "22582    2016\n",
              "22583    2016\n",
              "22584    2016\n",
              "22585    2016\n",
              "Name: issue_yr, Length: 22586, dtype: object"
            ]
          },
          "metadata": {},
          "execution_count": 19
        }
      ]
    },
    {
      "cell_type": "code",
      "source": [
        "#Assigning the float64 data type variables to be float types\n",
        "float_types = [column for column in data.columns if data[column].dtype == 'float64']\n",
        "#Prints out float types\n",
        "float_types"
      ],
      "metadata": {
        "id": "6BlSOUVM_ckQ",
        "colab": {
          "base_uri": "https://localhost:8080/"
        },
        "outputId": "25da3bf2-3293-4b37-faa0-436ae0f649f5"
      },
      "execution_count": null,
      "outputs": [
        {
          "output_type": "execute_result",
          "data": {
            "text/plain": [
              "['open_acc',\n",
              " 'funded_amnt',\n",
              " 'int_rate',\n",
              " 'annual_inc',\n",
              " 'dti',\n",
              " 'installment',\n",
              " 'fico']"
            ]
          },
          "metadata": {},
          "execution_count": 20
        }
      ]
    },
    {
      "cell_type": "markdown",
      "source": [
        "# Visually Inspect the Distribution of each features using a histogram and boxplot\n",
        "- These visualizations increase our understanding of each feature and allow us to identify potential outliers"
      ],
      "metadata": {
        "id": "AShwmnIk2HJ8"
      }
    },
    {
      "cell_type": "code",
      "source": [
        "#Code borrowed from class notebook. \n",
        "#We are using histograms and box-plots to check for outliers\n",
        "#Creating a for loop running through float types\n",
        "for col in data[float_types]:\n",
        "    #For each column we create space for one row with 2 charts \n",
        "    f, axes = plt.subplots(1, 2, figsize=(12, 6))\n",
        "    #The first chart is a histogram \n",
        "    data[float_types][col].hist(bins = 30, ax = axes[0])\n",
        "    #The title for the chart is created here \n",
        "    axes[0].set_title('Distribution of '+ col)\n",
        "    #The boxplot is created for the column\n",
        "    data[float_types].boxplot(column = col, ax = axes[1])\n",
        "    #This command displays the charts\n",
        "    plt.show()"
      ],
      "metadata": {
        "id": "rCf6z7Nc-5Sr",
        "colab": {
          "base_uri": "https://localhost:8080/",
          "height": 1000
        },
        "outputId": "7cfd7a9d-6c83-46cd-a3e0-aec277fcc109"
      },
      "execution_count": null,
      "outputs": [
        {
          "output_type": "display_data",
          "data": {
            "text/plain": [
              "<Figure size 864x432 with 2 Axes>"
            ],
            "image/png": "[encoded data removed]"
          },
          "metadata": {
            "needs_background": "light"
          }
        },
        {
          "output_type": "display_data",
          "data": {
            "text/plain": [
              "<Figure size 864x432 with 2 Axes>"
            ],
            "image/png": "[encoded data removed]"
          },
          "metadata": {
            "needs_background": "light"
          }
        },
        {
          "output_type": "display_data",
          "data": {
            "text/plain": [
              "<Figure size 864x432 with 2 Axes>"
            ],
            "image/png": "[encoded data removed]"
          },
          "metadata": {
            "needs_background": "light"
          }
        },
        {
          "output_type": "display_data",
          "data": {
            "text/plain": [
              "<Figure size 864x432 with 2 Axes>"
            ],
            "image/png": "[encoded data removed]"
          },
          "metadata": {
            "needs_background": "light"
          }
        },
        {
          "output_type": "display_data",
          "data": {
            "text/plain": [
              "<Figure size 864x432 with 2 Axes>"
            ],
            "image/png": "[encoded data removed]"
          },
          "metadata": {
            "needs_background": "light"
          }
        },
        {
          "output_type": "display_data",
          "data": {
            "text/plain": [
              "<Figure size 864x432 with 2 Axes>"
            ],
            "image/png": "[encoded data removed]"
          },
          "metadata": {
            "needs_background": "light"
          }
        },
        {
          "output_type": "display_data",
          "data": {
            "text/plain": [
              "<Figure size 864x432 with 2 Axes>"
            ],
            "image/png": "[encoded data removed]"
          },
          "metadata": {
            "needs_background": "light"
          }
        }
      ]
    },
    {
      "cell_type": "markdown",
      "source": [
        "# Define a function that identifies outlier cases"
      ],
      "metadata": {
        "id": "L18-0YZt3-ef"
      }
    },
    {
      "cell_type": "code",
      "source": [
        "#Code borrowed from class notebook.\n",
        "#We are defining a function that can be used on any dataset to return a list of index values for the outliers \n",
        "def get_outliers(data, columns):\n",
        "    #We create an empty list\n",
        "    outlier_idxs = []\n",
        "     #The standard deviations needed\n",
        "    nsd = 3 \n",
        "    #We loop over all columns passed into the function\n",
        "    for col in columns:\n",
        "        elements = data[col]\n",
        "        #We get the mean value for each column\n",
        "        mean = elements.mean()\n",
        "        #We get the standard deviation of the column\n",
        "        sd = elements.std()\n",
        "        #We get the index values of all values higher or lower than the mean +/- nsd standard deviations\n",
        "        outliers_mask = data[(data[col] > mean + nsd*sd) | (data[col]  < mean  - nsd*sd)].index\n",
        "        #We add those index values to our list\n",
        "        outlier_idxs  += [x for x in outliers_mask]\n",
        "        #We return a list of the outliers index\n",
        "    return list(set(outlier_idxs))"
      ],
      "metadata": {
        "id": "x2HTUGQuGNWI"
      },
      "execution_count": null,
      "outputs": []
    },
    {
      "cell_type": "markdown",
      "source": [
        "# Call the function that identifies outliers. \n",
        "- drop the idenitied outliers from out data\n",
        "### Caution: Running this function call multiple times will continue to decrease the size of your data\n"
      ],
      "metadata": {
        "id": "oalOt73P4D0E"
      }
    },
    {
      "cell_type": "code",
      "source": [
        "#Code borrowed from class notebook.\n",
        "#We check how many observations we have and print the results\n",
        "print (f\"Number of Observations and Features before Cleaning: {data[float_types].shape}\")\n",
        "#We call the function we just created on the boston dataset\n",
        "outliers = get_outliers(data[float_types], float_types)\n",
        "#We drop those records from our feature and response data\n",
        "data = data.drop(outliers, axis = 0)\n",
        "#We check that this code has worked by looking at the shape of our data \n",
        "print (f\"Number of Observations and Features after Cleaning: {data[float_types].shape}\")\n",
        "#Careful when running cell as more data will be removed"
      ],
      "metadata": {
        "id": "0ZZGnNJtGdnS",
        "colab": {
          "base_uri": "https://localhost:8080/"
        },
        "outputId": "6430c706-9c11-4c6b-9fab-91f35c9fa7c2"
      },
      "execution_count": null,
      "outputs": [
        {
          "output_type": "stream",
          "name": "stdout",
          "text": [
            "Number of Observations and Features before Cleaning: (22586, 7)\n",
            "Number of Observations and Features after Cleaning: (21502, 7)\n"
          ]
        }
      ]
    },
    {
      "cell_type": "markdown",
      "source": [
        "# Re-examine the distirbution for each features, now that we have dropped outlier cases"
      ],
      "metadata": {
        "id": "2TrJRm1O4cm-"
      }
    },
    {
      "cell_type": "code",
      "source": [
        "#Code borrowed from class notebook.\n",
        "#Checking histogram and box plots after removing outliers in for loop\n",
        "for col in data[float_types]:\n",
        "    #For each column we create space for one row with 2 charts  \n",
        "    f, axes = plt.subplots(1, 2, figsize=(12, 6))\n",
        "    #Our first chart is a histogram and we set the title \n",
        "    data[float_types][col].hist(bins = 30, ax = axes[0])\n",
        "    #We set the title of our histogram\n",
        "    axes[0].set_title('Distribution of '+ col)\n",
        "    #We created a boxplot of the column\n",
        "    data[float_types].boxplot(column = col, ax = axes[1])\n",
        "    #We use this to command to display the charts\n",
        "    plt.show()"
      ],
      "metadata": {
        "id": "Xl09rTWAOJZz",
        "colab": {
          "base_uri": "https://localhost:8080/",
          "height": 1000
        },
        "outputId": "a92701de-22c8-4e83-8657-5511fccf4291"
      },
      "execution_count": null,
      "outputs": [
        {
          "output_type": "display_data",
          "data": {
            "text/plain": [
              "<Figure size 864x432 with 2 Axes>"
            ],
            "image/png": "[encoded data removed]"
          },
          "metadata": {
            "needs_background": "light"
          }
        },
        {
          "output_type": "display_data",
          "data": {
            "text/plain": [
              "<Figure size 864x432 with 2 Axes>"
            ],
            "image/png": "[encoded data removed]"
          },
          "metadata": {
            "needs_background": "light"
          }
        },
        {
          "output_type": "display_data",
          "data": {
            "text/plain": [
              "<Figure size 864x432 with 2 Axes>"
            ],
            "image/png": "[encoded data removed]"
          },
          "metadata": {
            "needs_background": "light"
          }
        },
        {
          "output_type": "display_data",
          "data": {
            "text/plain": [
              "<Figure size 864x432 with 2 Axes>"
            ],
            "image/png": "[encoded data removed]"
          },
          "metadata": {
            "needs_background": "light"
          }
        },
        {
          "output_type": "display_data",
          "data": {
            "text/plain": [
              "<Figure size 864x432 with 2 Axes>"
            ],
            "image/png": "[encoded data removed]"
          },
          "metadata": {
            "needs_background": "light"
          }
        },
        {
          "output_type": "display_data",
          "data": {
            "text/plain": [
              "<Figure size 864x432 with 2 Axes>"
            ],
            "image/png": "[encoded data removed]"
          },
          "metadata": {
            "needs_background": "light"
          }
        },
        {
          "output_type": "display_data",
          "data": {
            "text/plain": [
              "<Figure size 864x432 with 2 Axes>"
            ],
            "image/png": "[encoded data removed]"
          },
          "metadata": {
            "needs_background": "light"
          }
        }
      ]
    },
    {
      "cell_type": "markdown",
      "source": [
        "# Feature Engineering: \n",
        "\n",
        "## The next portion of this notebook focuses on preparing key features for out model. \n",
        "\n",
        "### 'expected_total_payment': This feature is created by multiplying the term length (36 or 60) by the 'installment'\n",
        "   - Add this engineered feature to your data set\n",
        "   - This data is how much money you can expect from a loan, provided they make all the borrower makes all their payments. \n",
        "\n",
        "### Loan Status \n",
        "   - There are multiple levels to the loan status: Fully Paid, Current, Charged Off, Late (31-120 days), In Grace Period, Late (16-30 days), Does not meet the credit policy. Status: Fully Paid,  Does not meet the credit policy. Staus: Charged Off, and Default. \n",
        "   - We narrow our focus to just include the Charged Off and Fully Paid Loans because these are the only loans for which we know their ending status. "
      ],
      "metadata": {
        "id": "IPAYA33COTQ8"
      }
    },
    {
      "cell_type": "code",
      "source": [
        "#Created a variable expected_total_paymenet which is calculated by multiplying term and installment \n",
        "data['expected_total_payment'] = data['term'].astype(int) * data['installment']\n",
        "#Show the column of expected total payment\n",
        "data['expected_total_payment']"
      ],
      "metadata": {
        "id": "C8ZH53NgORpr",
        "colab": {
          "base_uri": "https://localhost:8080/"
        },
        "outputId": "163e0ced-8a9d-4e52-8ebe-7dd1b6eede6d"
      },
      "execution_count": null,
      "outputs": [
        {
          "output_type": "execute_result",
          "data": {
            "text/plain": [
              "0        38023.80\n",
              "2        10431.36\n",
              "3        36639.60\n",
              "4        12853.80\n",
              "5        22399.20\n",
              "           ...   \n",
              "22581    16398.00\n",
              "22582    46416.60\n",
              "22583     9741.60\n",
              "22584    53314.80\n",
              "22585    46953.00\n",
              "Name: expected_total_payment, Length: 21502, dtype: float64"
            ]
          },
          "metadata": {},
          "execution_count": 25
        }
      ]
    },
    {
      "cell_type": "markdown",
      "source": [
        "# Loan Status\n",
        "- Look at the contents of the feature using value_counts\n",
        "- drop the loans that are not in a definite ending status. "
      ],
      "metadata": {
        "id": "ktGEVcpe5nbd"
      }
    },
    {
      "cell_type": "code",
      "source": [
        "#Make sure expected total payment was added as a column\n",
        "data.columns\n",
        "#Count unique values in loan status\n",
        "data['loan_status'].value_counts()"
      ],
      "metadata": {
        "id": "1uaht2z9dV98",
        "colab": {
          "base_uri": "https://localhost:8080/"
        },
        "outputId": "18411ad1-b5b4-4f8a-cf7e-6ecda422dcb8"
      },
      "execution_count": null,
      "outputs": [
        {
          "output_type": "execute_result",
          "data": {
            "text/plain": [
              "Fully Paid                                             10340\n",
              "Current                                                 8256\n",
              "Charged Off                                             2552\n",
              "Late (31-120 days)                                       191\n",
              "In Grace Period                                           86\n",
              "Late (16-30 days)                                         48\n",
              "Does not meet the credit policy. Status:Fully Paid        24\n",
              "Does not meet the credit policy. Status:Charged Off        5\n",
              "Name: loan_status, dtype: int64"
            ]
          },
          "metadata": {},
          "execution_count": 26
        }
      ]
    },
    {
      "cell_type": "code",
      "source": [
        "# dropping loans that are not of Full Paid Off or Charged Off status \n",
        "s_drop = ['Current', 'Does not meet the credit policy. Status:Charged Off', 'Does not meet the credit policy. Status:Fully Paid', 'In Grace Period', 'Late (16-30 days)', 'Late (31-120 days)']\n",
        "#Retrives the data of loan status that are fully paid or charged off\n",
        "data_c = data.loc[(data['loan_status'] == \"Fully Paid\") | (data['loan_status'] == \"Charged Off\")].copy()\n",
        "#Remove the unused categories in loan status\n",
        "data_c['loan_status'] = data_c['loan_status'].cat.remove_unused_categories()\n",
        "#Determine the counts on loan status for fully paid and charged off\n",
        "data_c['loan_status'].value_counts()"
      ],
      "metadata": {
        "id": "KfNjx5geiGFp",
        "colab": {
          "base_uri": "https://localhost:8080/"
        },
        "outputId": "119457e2-7563-45c1-e798-6a5bb7cbab02"
      },
      "execution_count": null,
      "outputs": [
        {
          "output_type": "execute_result",
          "data": {
            "text/plain": [
              "Fully Paid     10340\n",
              "Charged Off     2552\n",
              "Name: loan_status, dtype: int64"
            ]
          },
          "metadata": {},
          "execution_count": 27
        }
      ]
    },
    {
      "cell_type": "markdown",
      "source": [
        "# An exploratory look at how the two loan status levels relate to the loan sub-grade. "
      ],
      "metadata": {
        "id": "t3kbZMpv8V16"
      }
    },
    {
      "cell_type": "code",
      "source": [
        "#Group based on sub grade and loan status with respective sums of other variables in following columns\n",
        "data_c.groupby(([\"sub_grade\",\"loan_status\"])).sum()\n",
        "tab = pd.crosstab(index = data_c['sub_grade'], columns = data_c['loan_status'])\n",
        "#Print the tab object\n",
        "print(tab)"
      ],
      "metadata": {
        "id": "O1l3raoEjzK3",
        "colab": {
          "base_uri": "https://localhost:8080/"
        },
        "outputId": "9ce3e46e-b631-43a1-ce6f-0a876cac55a1"
      },
      "execution_count": null,
      "outputs": [
        {
          "output_type": "stream",
          "name": "stdout",
          "text": [
            "loan_status  Charged Off  Fully Paid\n",
            "sub_grade                           \n",
            "A1                    10         360\n",
            "A2                    19         343\n",
            "A3                    19         321\n",
            "A4                    30         416\n",
            "A5                    62         577\n",
            "B1                    68         617\n",
            "B2                    79         634\n",
            "B3                    89         692\n",
            "B4                   128         729\n",
            "B5                   126         668\n",
            "C1                   150         678\n",
            "C2                   146         680\n",
            "C3                   185         532\n",
            "C4                   192         563\n",
            "C5                   182         468\n",
            "D1                   134         347\n",
            "D2                   126         316\n",
            "D3                   112         276\n",
            "D4                   103         229\n",
            "D5                    88         205\n",
            "E1                    93         137\n",
            "E2                    90         121\n",
            "E3                    58          92\n",
            "E4                    74          96\n",
            "E5                    57          71\n",
            "F1                    36          40\n",
            "F2                    30          40\n",
            "F3                    22          28\n",
            "F4                    12          21\n",
            "F5                    14          18\n",
            "G1                     9           8\n",
            "G2                     3           4\n",
            "G3                     5           7\n",
            "G4                     0           5\n",
            "G5                     1           1\n"
          ]
        }
      ]
    },
    {
      "cell_type": "code",
      "source": [
        "#Created default_risk column which is calculated by dividing charged off by the total of charged off and fully paid\n",
        "tab['default_risk'] = tab['Charged Off']/(tab['Charged Off'] + tab['Fully Paid'])\n",
        "#Make a copy of default risk and store it in a new object\n",
        "tab_lookup = tab['default_risk'].copy()\n",
        "#Print tab lookup\n",
        "tab_lookup"
      ],
      "metadata": {
        "id": "uQYzqTVdv01v",
        "colab": {
          "base_uri": "https://localhost:8080/"
        },
        "outputId": "8170e1f3-cec5-4909-d483-8d7696aa47e9"
      },
      "execution_count": null,
      "outputs": [
        {
          "output_type": "execute_result",
          "data": {
            "text/plain": [
              "sub_grade\n",
              "A1    0.027027\n",
              "A2    0.052486\n",
              "A3    0.055882\n",
              "A4    0.067265\n",
              "A5    0.097027\n",
              "B1    0.099270\n",
              "B2    0.110799\n",
              "B3    0.113956\n",
              "B4    0.149358\n",
              "B5    0.158690\n",
              "C1    0.181159\n",
              "C2    0.176755\n",
              "C3    0.258020\n",
              "C4    0.254305\n",
              "C5    0.280000\n",
              "D1    0.278586\n",
              "D2    0.285068\n",
              "D3    0.288660\n",
              "D4    0.310241\n",
              "D5    0.300341\n",
              "E1    0.404348\n",
              "E2    0.426540\n",
              "E3    0.386667\n",
              "E4    0.435294\n",
              "E5    0.445312\n",
              "F1    0.473684\n",
              "F2    0.428571\n",
              "F3    0.440000\n",
              "F4    0.363636\n",
              "F5    0.437500\n",
              "G1    0.529412\n",
              "G2    0.428571\n",
              "G3    0.416667\n",
              "G4    0.000000\n",
              "G5    0.500000\n",
              "Name: default_risk, dtype: float64"
            ]
          },
          "metadata": {},
          "execution_count": 29
        }
      ]
    },
    {
      "cell_type": "markdown",
      "source": [
        "# Random Forest: \n",
        "- We begin our analysis with a baseline Random Forest Model \n",
        "    - The first few cells focus on ensuring the data is correctly type casted and gaining an overview of our data. "
      ],
      "metadata": {
        "id": "i3T7lB20QShb"
      }
    },
    {
      "cell_type": "code",
      "source": [
        "#Print head of cleaned data\n",
        "data_c.head()"
      ],
      "metadata": {
        "id": "giNXSJ0gPV8U",
        "colab": {
          "base_uri": "https://localhost:8080/",
          "height": 206
        },
        "outputId": "0d921c20-ba3a-4c00-ffe2-f025a59d8d55"
      },
      "execution_count": null,
      "outputs": [
        {
          "output_type": "execute_result",
          "data": {
            "text/plain": [
              "   open_acc  funded_amnt  int_rate term verification_status  annual_inc  \\\n",
              "0      10.0      23975.0     19.89   60        Not Verified     70000.0   \n",
              "3      11.0      26250.0     13.99   60            Verified     65000.0   \n",
              "4      15.0      11200.0      9.17   36        Not Verified     53000.0   \n",
              "6      20.0       6000.0      5.32   36        Not Verified     80000.0   \n",
              "7       9.0      30000.0     19.48   60     Source Verified     88000.0   \n",
              "\n",
              "     dti  installment application_type emp_length grade sub_grade  \\\n",
              "0  33.20       633.73       Individual  10+ years     E        E3   \n",
              "3  26.90       610.66       Individual  10+ years     C        C4   \n",
              "4  11.96       357.05       Individual  10+ years     B        B2   \n",
              "6  13.50       180.69       Individual  10+ years     A        A1   \n",
              "7  18.47       786.17       Individual  10+ years     E        E2   \n",
              "\n",
              "  home_ownership  loan_status   issue_d   fico issue_yr  \\\n",
              "0           RENT  Charged Off  Dec-2015  687.0     2015   \n",
              "3       MORTGAGE   Fully Paid  Dec-2015  702.0     2015   \n",
              "4       MORTGAGE   Fully Paid  Dec-2015  722.0     2015   \n",
              "6       MORTGAGE   Fully Paid  Dec-2015  747.0     2015   \n",
              "7       MORTGAGE   Fully Paid  Dec-2015  667.0     2015   \n",
              "\n",
              "   expected_total_payment  \n",
              "0                38023.80  \n",
              "3                36639.60  \n",
              "4                12853.80  \n",
              "6                 6504.84  \n",
              "7                47170.20  "
            ],
            "text/html": [
              "\n",
              "  <div id=\"df-6cdb448c-11eb-482b-aa21-a1dd9069480a\">\n",
              "    <div class=\"colab-df-container\">\n",
              "      <div>\n",
              "<style scoped>\n",
              "    .dataframe tbody tr th:only-of-type {\n",
              "        vertical-align: middle;\n",
              "    }\n",
              "\n",
              "    .dataframe tbody tr th {\n",
              "        vertical-align: top;\n",
              "    }\n",
              "\n",
              "    .dataframe thead th {\n",
              "        text-align: right;\n",
              "    }\n",
              "</style>\n",
              "<table border=\"1\" class=\"dataframe\">\n",
              "  <thead>\n",
              "    <tr style=\"text-align: right;\">\n",
              "      <th></th>\n",
              "      <th>open_acc</th>\n",
              "      <th>funded_amnt</th>\n",
              "      <th>int_rate</th>\n",
              "      <th>term</th>\n",
              "      <th>verification_status</th>\n",
              "      <th>annual_inc</th>\n",
              "      <th>dti</th>\n",
              "      <th>installment</th>\n",
              "      <th>application_type</th>\n",
              "      <th>emp_length</th>\n",
              "      <th>grade</th>\n",
              "      <th>sub_grade</th>\n",
              "      <th>home_ownership</th>\n",
              "      <th>loan_status</th>\n",
              "      <th>issue_d</th>\n",
              "      <th>fico</th>\n",
              "      <th>issue_yr</th>\n",
              "      <th>expected_total_payment</th>\n",
              "    </tr>\n",
              "  </thead>\n",
              "  <tbody>\n",
              "    <tr>\n",
              "      <th>0</th>\n",
              "      <td>10.0</td>\n",
              "      <td>23975.0</td>\n",
              "      <td>19.89</td>\n",
              "      <td>60</td>\n",
              "      <td>Not Verified</td>\n",
              "      <td>70000.0</td>\n",
              "      <td>33.20</td>\n",
              "      <td>633.73</td>\n",
              "      <td>Individual</td>\n",
              "      <td>10+ years</td>\n",
              "      <td>E</td>\n",
              "      <td>E3</td>\n",
              "      <td>RENT</td>\n",
              "      <td>Charged Off</td>\n",
              "      <td>Dec-2015</td>\n",
              "      <td>687.0</td>\n",
              "      <td>2015</td>\n",
              "      <td>38023.80</td>\n",
              "    </tr>\n",
              "    <tr>\n",
              "      <th>3</th>\n",
              "      <td>11.0</td>\n",
              "      <td>26250.0</td>\n",
              "      <td>13.99</td>\n",
              "      <td>60</td>\n",
              "      <td>Verified</td>\n",
              "      <td>65000.0</td>\n",
              "      <td>26.90</td>\n",
              "      <td>610.66</td>\n",
              "      <td>Individual</td>\n",
              "      <td>10+ years</td>\n",
              "      <td>C</td>\n",
              "      <td>C4</td>\n",
              "      <td>MORTGAGE</td>\n",
              "      <td>Fully Paid</td>\n",
              "      <td>Dec-2015</td>\n",
              "      <td>702.0</td>\n",
              "      <td>2015</td>\n",
              "      <td>36639.60</td>\n",
              "    </tr>\n",
              "    <tr>\n",
              "      <th>4</th>\n",
              "      <td>15.0</td>\n",
              "      <td>11200.0</td>\n",
              "      <td>9.17</td>\n",
              "      <td>36</td>\n",
              "      <td>Not Verified</td>\n",
              "      <td>53000.0</td>\n",
              "      <td>11.96</td>\n",
              "      <td>357.05</td>\n",
              "      <td>Individual</td>\n",
              "      <td>10+ years</td>\n",
              "      <td>B</td>\n",
              "      <td>B2</td>\n",
              "      <td>MORTGAGE</td>\n",
              "      <td>Fully Paid</td>\n",
              "      <td>Dec-2015</td>\n",
              "      <td>722.0</td>\n",
              "      <td>2015</td>\n",
              "      <td>12853.80</td>\n",
              "    </tr>\n",
              "    <tr>\n",
              "      <th>6</th>\n",
              "      <td>20.0</td>\n",
              "      <td>6000.0</td>\n",
              "      <td>5.32</td>\n",
              "      <td>36</td>\n",
              "      <td>Not Verified</td>\n",
              "      <td>80000.0</td>\n",
              "      <td>13.50</td>\n",
              "      <td>180.69</td>\n",
              "      <td>Individual</td>\n",
              "      <td>10+ years</td>\n",
              "      <td>A</td>\n",
              "      <td>A1</td>\n",
              "      <td>MORTGAGE</td>\n",
              "      <td>Fully Paid</td>\n",
              "      <td>Dec-2015</td>\n",
              "      <td>747.0</td>\n",
              "      <td>2015</td>\n",
              "      <td>6504.84</td>\n",
              "    </tr>\n",
              "    <tr>\n",
              "      <th>7</th>\n",
              "      <td>9.0</td>\n",
              "      <td>30000.0</td>\n",
              "      <td>19.48</td>\n",
              "      <td>60</td>\n",
              "      <td>Source Verified</td>\n",
              "      <td>88000.0</td>\n",
              "      <td>18.47</td>\n",
              "      <td>786.17</td>\n",
              "      <td>Individual</td>\n",
              "      <td>10+ years</td>\n",
              "      <td>E</td>\n",
              "      <td>E2</td>\n",
              "      <td>MORTGAGE</td>\n",
              "      <td>Fully Paid</td>\n",
              "      <td>Dec-2015</td>\n",
              "      <td>667.0</td>\n",
              "      <td>2015</td>\n",
              "      <td>47170.20</td>\n",
              "    </tr>\n",
              "  </tbody>\n",
              "</table>\n",
              "</div>\n",
              "      <button class=\"colab-df-convert\" onclick=\"convertToInteractive('df-6cdb448c-11eb-482b-aa21-a1dd9069480a')\"\n",
              "              title=\"Convert this dataframe to an interactive table.\"\n",
              "              style=\"display:none;\">\n",
              "        \n",
              "  <svg xmlns=\"http://www.w3.org/2000/svg\" height=\"24px\"viewBox=\"0 0 24 24\"\n",
              "       width=\"24px\">\n",
              "    <path d=\"M0 0h24v24H0V0z\" fill=\"none\"/>\n",
              "    <path d=\"M18.56 5.44l.94 2.06.94-2.06 2.06-.94-2.06-.94-.94-2.06-.94 2.06-2.06.94zm-11 1L8.5 8.5l.94-2.06 2.06-.94-2.06-.94L8.5 2.5l-.94 2.06-2.06.94zm10 10l.94 2.06.94-2.06 2.06-.94-2.06-.94-.94-2.06-.94 2.06-2.06.94z\"/><path d=\"M17.41 7.96l-1.37-1.37c-.4-.4-.92-.59-1.43-.59-.52 0-1.04.2-1.43.59L10.3 9.45l-7.72 7.72c-.78.78-.78 2.05 0 2.83L4 21.41c.39.39.9.59 1.41.59.51 0 1.02-.2 1.41-.59l7.78-7.78 2.81-2.81c.8-.78.8-2.07 0-2.86zM5.41 20L4 18.59l7.72-7.72 1.47 1.35L5.41 20z\"/>\n",
              "  </svg>\n",
              "      </button>\n",
              "      \n",
              "  <style>\n",
              "    .colab-df-container {\n",
              "      display:flex;\n",
              "      flex-wrap:wrap;\n",
              "      gap: 12px;\n",
              "    }\n",
              "\n",
              "    .colab-df-convert {\n",
              "      background-color: #E8F0FE;\n",
              "      border: none;\n",
              "      border-radius: 50%;\n",
              "      cursor: pointer;\n",
              "      display: none;\n",
              "      fill: #1967D2;\n",
              "      height: 32px;\n",
              "      padding: 0 0 0 0;\n",
              "      width: 32px;\n",
              "    }\n",
              "\n",
              "    .colab-df-convert:hover {\n",
              "      background-color: #E2EBFA;\n",
              "      box-shadow: 0px 1px 2px rgba(60, 64, 67, 0.3), 0px 1px 3px 1px rgba(60, 64, 67, 0.15);\n",
              "      fill: #174EA6;\n",
              "    }\n",
              "\n",
              "    [theme=dark] .colab-df-convert {\n",
              "      background-color: #3B4455;\n",
              "      fill: #D2E3FC;\n",
              "    }\n",
              "\n",
              "    [theme=dark] .colab-df-convert:hover {\n",
              "      background-color: #434B5C;\n",
              "      box-shadow: 0px 1px 3px 1px rgba(0, 0, 0, 0.15);\n",
              "      filter: drop-shadow(0px 1px 2px rgba(0, 0, 0, 0.3));\n",
              "      fill: #FFFFFF;\n",
              "    }\n",
              "  </style>\n",
              "\n",
              "      <script>\n",
              "        const buttonEl =\n",
              "          document.querySelector('#df-6cdb448c-11eb-482b-aa21-a1dd9069480a button.colab-df-convert');\n",
              "        buttonEl.style.display =\n",
              "          google.colab.kernel.accessAllowed ? 'block' : 'none';\n",
              "\n",
              "        async function convertToInteractive(key) {\n",
              "          const element = document.querySelector('#df-6cdb448c-11eb-482b-aa21-a1dd9069480a');\n",
              "          const dataTable =\n",
              "            await google.colab.kernel.invokeFunction('convertToInteractive',\n",
              "                                                     [key], {});\n",
              "          if (!dataTable) return;\n",
              "\n",
              "          const docLinkHtml = 'Like what you see? Visit the ' +\n",
              "            '<a target=\"_blank\" href=https://colab.research.google.com/notebooks/data_table.ipynb>data table notebook</a>'\n",
              "            + ' to learn more about interactive tables.';\n",
              "          element.innerHTML = '';\n",
              "          dataTable['output_type'] = 'display_data';\n",
              "          await google.colab.output.renderOutput(dataTable, element);\n",
              "          const docLink = document.createElement('div');\n",
              "          docLink.innerHTML = docLinkHtml;\n",
              "          element.appendChild(docLink);\n",
              "        }\n",
              "      </script>\n",
              "    </div>\n",
              "  </div>\n",
              "  "
            ]
          },
          "metadata": {},
          "execution_count": 30
        }
      ]
    },
    {
      "cell_type": "code",
      "source": [
        "#Print head of cleaned data\n",
        "data_c['term'] = data_c['term'].astype(int)\n",
        "#Converting issue year to a data type of integer\n",
        "data_c['issue_yr'] = data_c['issue_yr'].astype(int)\n",
        "#Dropping issue date column\n",
        "data_c = data_c.drop(['issue_d'], axis = 1)"
      ],
      "metadata": {
        "id": "-kyw8IMmQnSa"
      },
      "execution_count": null,
      "outputs": []
    },
    {
      "cell_type": "code",
      "source": [
        "#Checking what is in cleaned data now after type casting and dropping variables\n",
        "data_c.info()"
      ],
      "metadata": {
        "id": "tumbLL9lQ1gq",
        "colab": {
          "base_uri": "https://localhost:8080/"
        },
        "outputId": "526902f8-3654-47fc-9170-43f2f816d2c9"
      },
      "execution_count": null,
      "outputs": [
        {
          "output_type": "stream",
          "name": "stdout",
          "text": [
            "<class 'pandas.core.frame.DataFrame'>\n",
            "Int64Index: 12892 entries, 0 to 22583\n",
            "Data columns (total 17 columns):\n",
            " #   Column                  Non-Null Count  Dtype   \n",
            "---  ------                  --------------  -----   \n",
            " 0   open_acc                12892 non-null  float64 \n",
            " 1   funded_amnt             12892 non-null  float64 \n",
            " 2   int_rate                12892 non-null  float64 \n",
            " 3   term                    12892 non-null  int64   \n",
            " 4   verification_status     12892 non-null  category\n",
            " 5   annual_inc              12892 non-null  float64 \n",
            " 6   dti                     12891 non-null  float64 \n",
            " 7   installment             12892 non-null  float64 \n",
            " 8   application_type        12892 non-null  category\n",
            " 9   emp_length              12154 non-null  category\n",
            " 10  grade                   12892 non-null  category\n",
            " 11  sub_grade               12892 non-null  category\n",
            " 12  home_ownership          12892 non-null  category\n",
            " 13  loan_status             12892 non-null  category\n",
            " 14  fico                    12892 non-null  float64 \n",
            " 15  issue_yr                12892 non-null  int64   \n",
            " 16  expected_total_payment  12892 non-null  float64 \n",
            "dtypes: category(7), float64(8), int64(2)\n",
            "memory usage: 1.2 MB\n"
          ]
        }
      ]
    },
    {
      "cell_type": "code",
      "source": [
        "#Finding the sum of the missing values in the cleaned data\n",
        "data_c.isna().sum()\n",
        "#Drop the cases of missing values\n",
        "data_c = data_c.dropna(axis = 1)\n",
        "#Confirm the missing value some is now 0 after dropping from before\n",
        "data_c.isnull().sum()"
      ],
      "metadata": {
        "id": "RFo4aOdlUkAm",
        "colab": {
          "base_uri": "https://localhost:8080/"
        },
        "outputId": "365ce007-b692-43d1-eb1a-d9cf66fe6958"
      },
      "execution_count": null,
      "outputs": [
        {
          "output_type": "execute_result",
          "data": {
            "text/plain": [
              "open_acc                  0\n",
              "funded_amnt               0\n",
              "int_rate                  0\n",
              "term                      0\n",
              "verification_status       0\n",
              "annual_inc                0\n",
              "installment               0\n",
              "application_type          0\n",
              "grade                     0\n",
              "sub_grade                 0\n",
              "home_ownership            0\n",
              "loan_status               0\n",
              "fico                      0\n",
              "issue_yr                  0\n",
              "expected_total_payment    0\n",
              "dtype: int64"
            ]
          },
          "metadata": {},
          "execution_count": 33
        }
      ]
    },
    {
      "cell_type": "code",
      "source": [
        "#Make a copy of the grade column\n",
        "grade = data_c['grade'].copy()\n",
        "#Make a copy of the sub grade column\n",
        "sub_grade = data_c['sub_grade'].copy()\n",
        "#Keep the data with issue years greater than 2012\n",
        "mod_dt = data_c[(data_c[\"issue_yr\"] >= 2012)]\n",
        "#Checking all possible issue years that are there now\n",
        "mod_dt['issue_yr'].unique()"
      ],
      "metadata": {
        "id": "nr58Iw_g_HdH",
        "colab": {
          "base_uri": "https://localhost:8080/"
        },
        "outputId": "2aaee8b5-5440-4615-90c2-33da3c8755b6"
      },
      "execution_count": null,
      "outputs": [
        {
          "output_type": "execute_result",
          "data": {
            "text/plain": [
              "array([2015, 2018, 2017, 2016, 2014, 2013, 2012])"
            ]
          },
          "metadata": {},
          "execution_count": 34
        }
      ]
    },
    {
      "cell_type": "markdown",
      "source": [
        "# Split the data into Testing and Training data sets \n",
        "- Our training data includes observations where a loan was issued from 2012 -2016\n",
        "-Our testing data includes observations where a loan was issued from 2017-2018\n",
        "\n",
        "### In order to check that the split occured as expected, we count the number of unique values in the 'issue_yr' feature for our training and testing data. "
      ],
      "metadata": {
        "id": "PEPH-0y3-xRn"
      }
    },
    {
      "cell_type": "code",
      "source": [
        "#Assigning test data to be all data with an issue year greater than or equal to 2017\n",
        "test_data = mod_dt[mod_dt['issue_yr'] >= 2017]\n",
        "#Assigning training data to be all data with an issue year less than 2017\n",
        "train_data = mod_dt[mod_dt['issue_yr'] < 2017]\n",
        "#Printing the number of unique values in the testing data's issue year column. We expect two\n",
        "print(test_data['issue_yr'].nunique())\n",
        "#Printing the number of unique values in the training data's issue year column. We expect five\n",
        "print(train_data['issue_yr'].nunique())"
      ],
      "metadata": {
        "id": "lIIZH06Bq6C3",
        "colab": {
          "base_uri": "https://localhost:8080/"
        },
        "outputId": "911ee6dc-4c55-4a1a-ea3d-fda4ecdfc408"
      },
      "execution_count": null,
      "outputs": [
        {
          "output_type": "stream",
          "name": "stdout",
          "text": [
            "2\n",
            "5\n"
          ]
        }
      ]
    },
    {
      "cell_type": "code",
      "source": [
        "#Current columns in training data\n",
        "train_data.columns\n",
        "\n",
        "#Borrowed from class notes\n",
        "#Create a new dataframe X that includes only our feature variables\n",
        "X_train = train_data.loc[:,data_c.columns != 'loan_status'].copy()\n",
        "#Create a new dataframe y that includes only our feature variables\n",
        "y_train = train_data['loan_status'].copy()\n",
        "#Retrieve everything but the loan status column from X test data\n",
        "X_test = test_data.loc[:,data_c.columns != 'loan_status'].copy()\n",
        "#Retrieve the loan status column from y test data\n",
        "y_test = test_data['loan_status'].copy()\n",
        "#One hot encode the categorical features to make them machine readable for X_test \n",
        "X_test = pd.get_dummies(X_test, drop_first=False).copy()\n",
        "#One hot encode the categorical features to make them machine readable for X_train \n",
        "X_train= pd.get_dummies(X_train, drop_first=False).copy()\n",
        "#Show the first five rows of X_train\n",
        "display(X_train.head())\n",
        "#Calculate the sum of the missing values from the X training data\n",
        "X_train.isna().sum()\n",
        "#Calculate the sum of the missing values from the y training data\n",
        "y_train.isnull().sum()\n",
        "#Shows us the number of rows and columns in y_train\n",
        "y_train.shape"
      ],
      "metadata": {
        "id": "7_fHQUihsclw",
        "colab": {
          "base_uri": "https://localhost:8080/",
          "height": 335
        },
        "outputId": "2eec6de6-1673-433b-f8d4-57b579e77518"
      },
      "execution_count": null,
      "outputs": [
        {
          "output_type": "display_data",
          "data": {
            "text/plain": [
              "   open_acc  funded_amnt  int_rate  term  annual_inc  installment   fico  \\\n",
              "0      10.0      23975.0     19.89    60     70000.0       633.73  687.0   \n",
              "3      11.0      26250.0     13.99    60     65000.0       610.66  702.0   \n",
              "4      15.0      11200.0      9.17    36     53000.0       357.05  722.0   \n",
              "6      20.0       6000.0      5.32    36     80000.0       180.69  747.0   \n",
              "7       9.0      30000.0     19.48    60     88000.0       786.17  667.0   \n",
              "\n",
              "   issue_yr  expected_total_payment  verification_status_Not Verified  ...  \\\n",
              "0      2015                38023.80                                 1  ...   \n",
              "3      2015                36639.60                                 0  ...   \n",
              "4      2015                12853.80                                 1  ...   \n",
              "6      2015                 6504.84                                 1  ...   \n",
              "7      2015                47170.20                                 0  ...   \n",
              "\n",
              "   sub_grade_G1  sub_grade_G2  sub_grade_G3  sub_grade_G4  sub_grade_G5  \\\n",
              "0             0             0             0             0             0   \n",
              "3             0             0             0             0             0   \n",
              "4             0             0             0             0             0   \n",
              "6             0             0             0             0             0   \n",
              "7             0             0             0             0             0   \n",
              "\n",
              "   home_ownership_ANY  home_ownership_MORTGAGE  home_ownership_OTHER  \\\n",
              "0                   0                        0                     0   \n",
              "3                   0                        1                     0   \n",
              "4                   0                        1                     0   \n",
              "6                   0                        1                     0   \n",
              "7                   0                        1                     0   \n",
              "\n",
              "   home_ownership_OWN  home_ownership_RENT  \n",
              "0                   0                    1  \n",
              "3                   0                    0  \n",
              "4                   0                    0  \n",
              "6                   0                    0  \n",
              "7                   0                    0  \n",
              "\n",
              "[5 rows x 61 columns]"
            ],
            "text/html": [
              "\n",
              "  <div id=\"df-7cc6479d-abff-491d-8c47-8fca1eb77aa9\">\n",
              "    <div class=\"colab-df-container\">\n",
              "      <div>\n",
              "<style scoped>\n",
              "    .dataframe tbody tr th:only-of-type {\n",
              "        vertical-align: middle;\n",
              "    }\n",
              "\n",
              "    .dataframe tbody tr th {\n",
              "        vertical-align: top;\n",
              "    }\n",
              "\n",
              "    .dataframe thead th {\n",
              "        text-align: right;\n",
              "    }\n",
              "</style>\n",
              "<table border=\"1\" class=\"dataframe\">\n",
              "  <thead>\n",
              "    <tr style=\"text-align: right;\">\n",
              "      <th></th>\n",
              "      <th>open_acc</th>\n",
              "      <th>funded_amnt</th>\n",
              "      <th>int_rate</th>\n",
              "      <th>term</th>\n",
              "      <th>annual_inc</th>\n",
              "      <th>installment</th>\n",
              "      <th>fico</th>\n",
              "      <th>issue_yr</th>\n",
              "      <th>expected_total_payment</th>\n",
              "      <th>verification_status_Not Verified</th>\n",
              "      <th>...</th>\n",
              "      <th>sub_grade_G1</th>\n",
              "      <th>sub_grade_G2</th>\n",
              "      <th>sub_grade_G3</th>\n",
              "      <th>sub_grade_G4</th>\n",
              "      <th>sub_grade_G5</th>\n",
              "      <th>home_ownership_ANY</th>\n",
              "      <th>home_ownership_MORTGAGE</th>\n",
              "      <th>home_ownership_OTHER</th>\n",
              "      <th>home_ownership_OWN</th>\n",
              "      <th>home_ownership_RENT</th>\n",
              "    </tr>\n",
              "  </thead>\n",
              "  <tbody>\n",
              "    <tr>\n",
              "      <th>0</th>\n",
              "      <td>10.0</td>\n",
              "      <td>23975.0</td>\n",
              "      <td>19.89</td>\n",
              "      <td>60</td>\n",
              "      <td>70000.0</td>\n",
              "      <td>633.73</td>\n",
              "      <td>687.0</td>\n",
              "      <td>2015</td>\n",
              "      <td>38023.80</td>\n",
              "      <td>1</td>\n",
              "      <td>...</td>\n",
              "      <td>0</td>\n",
              "      <td>0</td>\n",
              "      <td>0</td>\n",
              "      <td>0</td>\n",
              "      <td>0</td>\n",
              "      <td>0</td>\n",
              "      <td>0</td>\n",
              "      <td>0</td>\n",
              "      <td>0</td>\n",
              "      <td>1</td>\n",
              "    </tr>\n",
              "    <tr>\n",
              "      <th>3</th>\n",
              "      <td>11.0</td>\n",
              "      <td>26250.0</td>\n",
              "      <td>13.99</td>\n",
              "      <td>60</td>\n",
              "      <td>65000.0</td>\n",
              "      <td>610.66</td>\n",
              "      <td>702.0</td>\n",
              "      <td>2015</td>\n",
              "      <td>36639.60</td>\n",
              "      <td>0</td>\n",
              "      <td>...</td>\n",
              "      <td>0</td>\n",
              "      <td>0</td>\n",
              "      <td>0</td>\n",
              "      <td>0</td>\n",
              "      <td>0</td>\n",
              "      <td>0</td>\n",
              "      <td>1</td>\n",
              "      <td>0</td>\n",
              "      <td>0</td>\n",
              "      <td>0</td>\n",
              "    </tr>\n",
              "    <tr>\n",
              "      <th>4</th>\n",
              "      <td>15.0</td>\n",
              "      <td>11200.0</td>\n",
              "      <td>9.17</td>\n",
              "      <td>36</td>\n",
              "      <td>53000.0</td>\n",
              "      <td>357.05</td>\n",
              "      <td>722.0</td>\n",
              "      <td>2015</td>\n",
              "      <td>12853.80</td>\n",
              "      <td>1</td>\n",
              "      <td>...</td>\n",
              "      <td>0</td>\n",
              "      <td>0</td>\n",
              "      <td>0</td>\n",
              "      <td>0</td>\n",
              "      <td>0</td>\n",
              "      <td>0</td>\n",
              "      <td>1</td>\n",
              "      <td>0</td>\n",
              "      <td>0</td>\n",
              "      <td>0</td>\n",
              "    </tr>\n",
              "    <tr>\n",
              "      <th>6</th>\n",
              "      <td>20.0</td>\n",
              "      <td>6000.0</td>\n",
              "      <td>5.32</td>\n",
              "      <td>36</td>\n",
              "      <td>80000.0</td>\n",
              "      <td>180.69</td>\n",
              "      <td>747.0</td>\n",
              "      <td>2015</td>\n",
              "      <td>6504.84</td>\n",
              "      <td>1</td>\n",
              "      <td>...</td>\n",
              "      <td>0</td>\n",
              "      <td>0</td>\n",
              "      <td>0</td>\n",
              "      <td>0</td>\n",
              "      <td>0</td>\n",
              "      <td>0</td>\n",
              "      <td>1</td>\n",
              "      <td>0</td>\n",
              "      <td>0</td>\n",
              "      <td>0</td>\n",
              "    </tr>\n",
              "    <tr>\n",
              "      <th>7</th>\n",
              "      <td>9.0</td>\n",
              "      <td>30000.0</td>\n",
              "      <td>19.48</td>\n",
              "      <td>60</td>\n",
              "      <td>88000.0</td>\n",
              "      <td>786.17</td>\n",
              "      <td>667.0</td>\n",
              "      <td>2015</td>\n",
              "      <td>47170.20</td>\n",
              "      <td>0</td>\n",
              "      <td>...</td>\n",
              "      <td>0</td>\n",
              "      <td>0</td>\n",
              "      <td>0</td>\n",
              "      <td>0</td>\n",
              "      <td>0</td>\n",
              "      <td>0</td>\n",
              "      <td>1</td>\n",
              "      <td>0</td>\n",
              "      <td>0</td>\n",
              "      <td>0</td>\n",
              "    </tr>\n",
              "  </tbody>\n",
              "</table>\n",
              "<p>5 rows × 61 columns</p>\n",
              "</div>\n",
              "      <button class=\"colab-df-convert\" onclick=\"convertToInteractive('df-7cc6479d-abff-491d-8c47-8fca1eb77aa9')\"\n",
              "              title=\"Convert this dataframe to an interactive table.\"\n",
              "              style=\"display:none;\">\n",
              "        \n",
              "  <svg xmlns=\"http://www.w3.org/2000/svg\" height=\"24px\"viewBox=\"0 0 24 24\"\n",
              "       width=\"24px\">\n",
              "    <path d=\"M0 0h24v24H0V0z\" fill=\"none\"/>\n",
              "    <path d=\"M18.56 5.44l.94 2.06.94-2.06 2.06-.94-2.06-.94-.94-2.06-.94 2.06-2.06.94zm-11 1L8.5 8.5l.94-2.06 2.06-.94-2.06-.94L8.5 2.5l-.94 2.06-2.06.94zm10 10l.94 2.06.94-2.06 2.06-.94-2.06-.94-.94-2.06-.94 2.06-2.06.94z\"/><path d=\"M17.41 7.96l-1.37-1.37c-.4-.4-.92-.59-1.43-.59-.52 0-1.04.2-1.43.59L10.3 9.45l-7.72 7.72c-.78.78-.78 2.05 0 2.83L4 21.41c.39.39.9.59 1.41.59.51 0 1.02-.2 1.41-.59l7.78-7.78 2.81-2.81c.8-.78.8-2.07 0-2.86zM5.41 20L4 18.59l7.72-7.72 1.47 1.35L5.41 20z\"/>\n",
              "  </svg>\n",
              "      </button>\n",
              "      \n",
              "  <style>\n",
              "    .colab-df-container {\n",
              "      display:flex;\n",
              "      flex-wrap:wrap;\n",
              "      gap: 12px;\n",
              "    }\n",
              "\n",
              "    .colab-df-convert {\n",
              "      background-color: #E8F0FE;\n",
              "      border: none;\n",
              "      border-radius: 50%;\n",
              "      cursor: pointer;\n",
              "      display: none;\n",
              "      fill: #1967D2;\n",
              "      height: 32px;\n",
              "      padding: 0 0 0 0;\n",
              "      width: 32px;\n",
              "    }\n",
              "\n",
              "    .colab-df-convert:hover {\n",
              "      background-color: #E2EBFA;\n",
              "      box-shadow: 0px 1px 2px rgba(60, 64, 67, 0.3), 0px 1px 3px 1px rgba(60, 64, 67, 0.15);\n",
              "      fill: #174EA6;\n",
              "    }\n",
              "\n",
              "    [theme=dark] .colab-df-convert {\n",
              "      background-color: #3B4455;\n",
              "      fill: #D2E3FC;\n",
              "    }\n",
              "\n",
              "    [theme=dark] .colab-df-convert:hover {\n",
              "      background-color: #434B5C;\n",
              "      box-shadow: 0px 1px 3px 1px rgba(0, 0, 0, 0.15);\n",
              "      filter: drop-shadow(0px 1px 2px rgba(0, 0, 0, 0.3));\n",
              "      fill: #FFFFFF;\n",
              "    }\n",
              "  </style>\n",
              "\n",
              "      <script>\n",
              "        const buttonEl =\n",
              "          document.querySelector('#df-7cc6479d-abff-491d-8c47-8fca1eb77aa9 button.colab-df-convert');\n",
              "        buttonEl.style.display =\n",
              "          google.colab.kernel.accessAllowed ? 'block' : 'none';\n",
              "\n",
              "        async function convertToInteractive(key) {\n",
              "          const element = document.querySelector('#df-7cc6479d-abff-491d-8c47-8fca1eb77aa9');\n",
              "          const dataTable =\n",
              "            await google.colab.kernel.invokeFunction('convertToInteractive',\n",
              "                                                     [key], {});\n",
              "          if (!dataTable) return;\n",
              "\n",
              "          const docLinkHtml = 'Like what you see? Visit the ' +\n",
              "            '<a target=\"_blank\" href=https://colab.research.google.com/notebooks/data_table.ipynb>data table notebook</a>'\n",
              "            + ' to learn more about interactive tables.';\n",
              "          element.innerHTML = '';\n",
              "          dataTable['output_type'] = 'display_data';\n",
              "          await google.colab.output.renderOutput(dataTable, element);\n",
              "          const docLink = document.createElement('div');\n",
              "          docLink.innerHTML = docLinkHtml;\n",
              "          element.appendChild(docLink);\n",
              "        }\n",
              "      </script>\n",
              "    </div>\n",
              "  </div>\n",
              "  "
            ]
          },
          "metadata": {}
        },
        {
          "output_type": "execute_result",
          "data": {
            "text/plain": [
              "(10351,)"
            ]
          },
          "metadata": {},
          "execution_count": 36
        }
      ]
    },
    {
      "cell_type": "code",
      "source": [
        "#Store X_test expected_total_payment in new object called total_payment_unscaled_test\n",
        "total_payment_unscaled_test = X_test['expected_total_payment'].copy()\n",
        "#Store X_train expected_total_payment in new object called total_payment_unscaled\n",
        "total_payment_unscaled = X_train['expected_total_payment'].copy()\n",
        "#Store X-train funded_amnt in new object called funded_amnt_unscaled\n",
        "funded_amnt_unscaled= X_train['funded_amnt'].copy()\n",
        "#Store X-test funded_amnt in new object called funded_amnt_unscaled_test\n",
        "funded_amnt_unscaled_test= X_test['funded_amnt'].copy()\n",
        "#Show what object total_payment_unscaled looks like\n",
        "total_payment_unscaled"
      ],
      "metadata": {
        "id": "GG6b50JLi8ci",
        "colab": {
          "base_uri": "https://localhost:8080/"
        },
        "outputId": "41f2da03-643d-49db-cd67-457b5d1ea309"
      },
      "execution_count": null,
      "outputs": [
        {
          "output_type": "execute_result",
          "data": {
            "text/plain": [
              "0        38023.80\n",
              "3        36639.60\n",
              "4        12853.80\n",
              "6         6504.84\n",
              "7        47170.20\n",
              "           ...   \n",
              "22578     3075.84\n",
              "22579    13013.28\n",
              "22580     4286.52\n",
              "22582    46416.60\n",
              "22583     9741.60\n",
              "Name: expected_total_payment, Length: 10351, dtype: float64"
            ]
          },
          "metadata": {},
          "execution_count": 37
        }
      ]
    },
    {
      "cell_type": "markdown",
      "source": [
        "# Define a function that will scale features. \n",
        "- Since Random Forest relies on Eucladian distrance, feature scaling is a critical step\n",
        "- This action maintains each feature's disbtribution while removing the effects of different scales on our model"
      ],
      "metadata": {
        "id": "SmWU-J40_ohZ"
      }
    },
    {
      "cell_type": "code",
      "source": [
        "#Borrowed from class notes\n",
        "#This function loops through columns in a feature set and defines a predefined scaler for each\n",
        "def scale_numeric(features, numeric_features, scaler):\n",
        "    #For loop through each numeric column\n",
        "    for col in numeric_features:\n",
        "       #Reshaping the columns\n",
        "        features[col] = scaler.fit_transform(features[col].values.reshape(-1, 1))\n",
        "     #Return the columnn\n",
        "    return features\n",
        "\n",
        "#We now define the scaler we want to use and apply it to our features \n",
        "#Initialize the list of numeric_features\n",
        "numeric_features = ['open_acc', 'funded_amnt', 'int_rate', 'term', 'annual_inc',\n",
        "       'installment', 'fico', 'expected_total_payment']\n",
        "       #Store MinMaxScaler function in scaler object\n",
        "scaler = MinMaxScaler()\n",
        "#Call scale_numeric function in X_train\n",
        "X_train_scaled = scale_numeric(X_train, numeric_features, scaler)\n",
        "#Call scale_numeric function in X_test\n",
        "X_test_scaled = scale_numeric(X_test, numeric_features, scaler)\n",
        "#Check to see if it worked\n",
        "X_train_scaled.describe()"
      ],
      "metadata": {
        "id": "Wmw13GdsSYii",
        "colab": {
          "base_uri": "https://localhost:8080/",
          "height": 411
        },
        "outputId": "f8b64cd6-f123-4d18-98b9-9f45e54a1f12"
      },
      "execution_count": null,
      "outputs": [
        {
          "output_type": "execute_result",
          "data": {
            "text/plain": [
              "           open_acc   funded_amnt      int_rate          term    annual_inc  \\\n",
              "count  10351.000000  10351.000000  10351.000000  10351.000000  10351.000000   \n",
              "mean       0.385688      0.341724      0.353143      0.244228      0.189774   \n",
              "std        0.184166      0.212267      0.200051      0.429649      0.113415   \n",
              "min        0.000000      0.000000      0.000000      0.000000      0.000000   \n",
              "25%        0.259259      0.179487      0.199820      0.000000      0.113764   \n",
              "50%        0.370370      0.282051      0.339648      0.000000      0.166667   \n",
              "75%        0.481481      0.487179      0.464141      0.000000      0.236111   \n",
              "max        1.000000      1.000000      1.000000      1.000000      1.000000   \n",
              "\n",
              "        installment          fico      issue_yr  expected_total_payment  \\\n",
              "count  10351.000000  10351.000000  10351.000000            10351.000000   \n",
              "mean       0.333298      0.249530   2014.627959                0.285100   \n",
              "std        0.200917      0.212640      1.154210                0.192100   \n",
              "min        0.000000      0.000000   2012.000000                0.000000   \n",
              "25%        0.186116      0.074074   2014.000000                0.138290   \n",
              "50%        0.285733      0.185185   2015.000000                0.245645   \n",
              "75%        0.452542      0.370370   2016.000000                0.387806   \n",
              "max        1.000000      1.000000   2016.000000                1.000000   \n",
              "\n",
              "       verification_status_Not Verified  ...  sub_grade_G1  sub_grade_G2  \\\n",
              "count                      10351.000000  ...  10351.000000  10351.000000   \n",
              "mean                           0.289344  ...      0.001642      0.000676   \n",
              "std                            0.453480  ...      0.040495      0.025998   \n",
              "min                            0.000000  ...      0.000000      0.000000   \n",
              "25%                            0.000000  ...      0.000000      0.000000   \n",
              "50%                            0.000000  ...      0.000000      0.000000   \n",
              "75%                            1.000000  ...      0.000000      0.000000   \n",
              "max                            1.000000  ...      1.000000      1.000000   \n",
              "\n",
              "       sub_grade_G3  sub_grade_G4  sub_grade_G5  home_ownership_ANY  \\\n",
              "count  10351.000000  10351.000000  10351.000000        10351.000000   \n",
              "mean       0.001159      0.000483      0.000193            0.000097   \n",
              "std        0.034031      0.021974      0.013900            0.009829   \n",
              "min        0.000000      0.000000      0.000000            0.000000   \n",
              "25%        0.000000      0.000000      0.000000            0.000000   \n",
              "50%        0.000000      0.000000      0.000000            0.000000   \n",
              "75%        0.000000      0.000000      0.000000            0.000000   \n",
              "max        1.000000      1.000000      1.000000            1.000000   \n",
              "\n",
              "       home_ownership_MORTGAGE  home_ownership_OTHER  home_ownership_OWN  \\\n",
              "count             10351.000000               10351.0        10351.000000   \n",
              "mean                  0.505845                   0.0            0.102792   \n",
              "std                   0.499990                   0.0            0.303702   \n",
              "min                   0.000000                   0.0            0.000000   \n",
              "25%                   0.000000                   0.0            0.000000   \n",
              "50%                   1.000000                   0.0            0.000000   \n",
              "75%                   1.000000                   0.0            0.000000   \n",
              "max                   1.000000                   0.0            1.000000   \n",
              "\n",
              "       home_ownership_RENT  \n",
              "count         10351.000000  \n",
              "mean              0.391267  \n",
              "std               0.488057  \n",
              "min               0.000000  \n",
              "25%               0.000000  \n",
              "50%               0.000000  \n",
              "75%               1.000000  \n",
              "max               1.000000  \n",
              "\n",
              "[8 rows x 61 columns]"
            ],
            "text/html": [
              "\n",
              "  <div id=\"df-25ad63be-8df8-450f-8feb-6407cde29cb3\">\n",
              "    <div class=\"colab-df-container\">\n",
              "      <div>\n",
              "<style scoped>\n",
              "    .dataframe tbody tr th:only-of-type {\n",
              "        vertical-align: middle;\n",
              "    }\n",
              "\n",
              "    .dataframe tbody tr th {\n",
              "        vertical-align: top;\n",
              "    }\n",
              "\n",
              "    .dataframe thead th {\n",
              "        text-align: right;\n",
              "    }\n",
              "</style>\n",
              "<table border=\"1\" class=\"dataframe\">\n",
              "  <thead>\n",
              "    <tr style=\"text-align: right;\">\n",
              "      <th></th>\n",
              "      <th>open_acc</th>\n",
              "      <th>funded_amnt</th>\n",
              "      <th>int_rate</th>\n",
              "      <th>term</th>\n",
              "      <th>annual_inc</th>\n",
              "      <th>installment</th>\n",
              "      <th>fico</th>\n",
              "      <th>issue_yr</th>\n",
              "      <th>expected_total_payment</th>\n",
              "      <th>verification_status_Not Verified</th>\n",
              "      <th>...</th>\n",
              "      <th>sub_grade_G1</th>\n",
              "      <th>sub_grade_G2</th>\n",
              "      <th>sub_grade_G3</th>\n",
              "      <th>sub_grade_G4</th>\n",
              "      <th>sub_grade_G5</th>\n",
              "      <th>home_ownership_ANY</th>\n",
              "      <th>home_ownership_MORTGAGE</th>\n",
              "      <th>home_ownership_OTHER</th>\n",
              "      <th>home_ownership_OWN</th>\n",
              "      <th>home_ownership_RENT</th>\n",
              "    </tr>\n",
              "  </thead>\n",
              "  <tbody>\n",
              "    <tr>\n",
              "      <th>count</th>\n",
              "      <td>10351.000000</td>\n",
              "      <td>10351.000000</td>\n",
              "      <td>10351.000000</td>\n",
              "      <td>10351.000000</td>\n",
              "      <td>10351.000000</td>\n",
              "      <td>10351.000000</td>\n",
              "      <td>10351.000000</td>\n",
              "      <td>10351.000000</td>\n",
              "      <td>10351.000000</td>\n",
              "      <td>10351.000000</td>\n",
              "      <td>...</td>\n",
              "      <td>10351.000000</td>\n",
              "      <td>10351.000000</td>\n",
              "      <td>10351.000000</td>\n",
              "      <td>10351.000000</td>\n",
              "      <td>10351.000000</td>\n",
              "      <td>10351.000000</td>\n",
              "      <td>10351.000000</td>\n",
              "      <td>10351.0</td>\n",
              "      <td>10351.000000</td>\n",
              "      <td>10351.000000</td>\n",
              "    </tr>\n",
              "    <tr>\n",
              "      <th>mean</th>\n",
              "      <td>0.385688</td>\n",
              "      <td>0.341724</td>\n",
              "      <td>0.353143</td>\n",
              "      <td>0.244228</td>\n",
              "      <td>0.189774</td>\n",
              "      <td>0.333298</td>\n",
              "      <td>0.249530</td>\n",
              "      <td>2014.627959</td>\n",
              "      <td>0.285100</td>\n",
              "      <td>0.289344</td>\n",
              "      <td>...</td>\n",
              "      <td>0.001642</td>\n",
              "      <td>0.000676</td>\n",
              "      <td>0.001159</td>\n",
              "      <td>0.000483</td>\n",
              "      <td>0.000193</td>\n",
              "      <td>0.000097</td>\n",
              "      <td>0.505845</td>\n",
              "      <td>0.0</td>\n",
              "      <td>0.102792</td>\n",
              "      <td>0.391267</td>\n",
              "    </tr>\n",
              "    <tr>\n",
              "      <th>std</th>\n",
              "      <td>0.184166</td>\n",
              "      <td>0.212267</td>\n",
              "      <td>0.200051</td>\n",
              "      <td>0.429649</td>\n",
              "      <td>0.113415</td>\n",
              "      <td>0.200917</td>\n",
              "      <td>0.212640</td>\n",
              "      <td>1.154210</td>\n",
              "      <td>0.192100</td>\n",
              "      <td>0.453480</td>\n",
              "      <td>...</td>\n",
              "      <td>0.040495</td>\n",
              "      <td>0.025998</td>\n",
              "      <td>0.034031</td>\n",
              "      <td>0.021974</td>\n",
              "      <td>0.013900</td>\n",
              "      <td>0.009829</td>\n",
              "      <td>0.499990</td>\n",
              "      <td>0.0</td>\n",
              "      <td>0.303702</td>\n",
              "      <td>0.488057</td>\n",
              "    </tr>\n",
              "    <tr>\n",
              "      <th>min</th>\n",
              "      <td>0.000000</td>\n",
              "      <td>0.000000</td>\n",
              "      <td>0.000000</td>\n",
              "      <td>0.000000</td>\n",
              "      <td>0.000000</td>\n",
              "      <td>0.000000</td>\n",
              "      <td>0.000000</td>\n",
              "      <td>2012.000000</td>\n",
              "      <td>0.000000</td>\n",
              "      <td>0.000000</td>\n",
              "      <td>...</td>\n",
              "      <td>0.000000</td>\n",
              "      <td>0.000000</td>\n",
              "      <td>0.000000</td>\n",
              "      <td>0.000000</td>\n",
              "      <td>0.000000</td>\n",
              "      <td>0.000000</td>\n",
              "      <td>0.000000</td>\n",
              "      <td>0.0</td>\n",
              "      <td>0.000000</td>\n",
              "      <td>0.000000</td>\n",
              "    </tr>\n",
              "    <tr>\n",
              "      <th>25%</th>\n",
              "      <td>0.259259</td>\n",
              "      <td>0.179487</td>\n",
              "      <td>0.199820</td>\n",
              "      <td>0.000000</td>\n",
              "      <td>0.113764</td>\n",
              "      <td>0.186116</td>\n",
              "      <td>0.074074</td>\n",
              "      <td>2014.000000</td>\n",
              "      <td>0.138290</td>\n",
              "      <td>0.000000</td>\n",
              "      <td>...</td>\n",
              "      <td>0.000000</td>\n",
              "      <td>0.000000</td>\n",
              "      <td>0.000000</td>\n",
              "      <td>0.000000</td>\n",
              "      <td>0.000000</td>\n",
              "      <td>0.000000</td>\n",
              "      <td>0.000000</td>\n",
              "      <td>0.0</td>\n",
              "      <td>0.000000</td>\n",
              "      <td>0.000000</td>\n",
              "    </tr>\n",
              "    <tr>\n",
              "      <th>50%</th>\n",
              "      <td>0.370370</td>\n",
              "      <td>0.282051</td>\n",
              "      <td>0.339648</td>\n",
              "      <td>0.000000</td>\n",
              "      <td>0.166667</td>\n",
              "      <td>0.285733</td>\n",
              "      <td>0.185185</td>\n",
              "      <td>2015.000000</td>\n",
              "      <td>0.245645</td>\n",
              "      <td>0.000000</td>\n",
              "      <td>...</td>\n",
              "      <td>0.000000</td>\n",
              "      <td>0.000000</td>\n",
              "      <td>0.000000</td>\n",
              "      <td>0.000000</td>\n",
              "      <td>0.000000</td>\n",
              "      <td>0.000000</td>\n",
              "      <td>1.000000</td>\n",
              "      <td>0.0</td>\n",
              "      <td>0.000000</td>\n",
              "      <td>0.000000</td>\n",
              "    </tr>\n",
              "    <tr>\n",
              "      <th>75%</th>\n",
              "      <td>0.481481</td>\n",
              "      <td>0.487179</td>\n",
              "      <td>0.464141</td>\n",
              "      <td>0.000000</td>\n",
              "      <td>0.236111</td>\n",
              "      <td>0.452542</td>\n",
              "      <td>0.370370</td>\n",
              "      <td>2016.000000</td>\n",
              "      <td>0.387806</td>\n",
              "      <td>1.000000</td>\n",
              "      <td>...</td>\n",
              "      <td>0.000000</td>\n",
              "      <td>0.000000</td>\n",
              "      <td>0.000000</td>\n",
              "      <td>0.000000</td>\n",
              "      <td>0.000000</td>\n",
              "      <td>0.000000</td>\n",
              "      <td>1.000000</td>\n",
              "      <td>0.0</td>\n",
              "      <td>0.000000</td>\n",
              "      <td>1.000000</td>\n",
              "    </tr>\n",
              "    <tr>\n",
              "      <th>max</th>\n",
              "      <td>1.000000</td>\n",
              "      <td>1.000000</td>\n",
              "      <td>1.000000</td>\n",
              "      <td>1.000000</td>\n",
              "      <td>1.000000</td>\n",
              "      <td>1.000000</td>\n",
              "      <td>1.000000</td>\n",
              "      <td>2016.000000</td>\n",
              "      <td>1.000000</td>\n",
              "      <td>1.000000</td>\n",
              "      <td>...</td>\n",
              "      <td>1.000000</td>\n",
              "      <td>1.000000</td>\n",
              "      <td>1.000000</td>\n",
              "      <td>1.000000</td>\n",
              "      <td>1.000000</td>\n",
              "      <td>1.000000</td>\n",
              "      <td>1.000000</td>\n",
              "      <td>0.0</td>\n",
              "      <td>1.000000</td>\n",
              "      <td>1.000000</td>\n",
              "    </tr>\n",
              "  </tbody>\n",
              "</table>\n",
              "<p>8 rows × 61 columns</p>\n",
              "</div>\n",
              "      <button class=\"colab-df-convert\" onclick=\"convertToInteractive('df-25ad63be-8df8-450f-8feb-6407cde29cb3')\"\n",
              "              title=\"Convert this dataframe to an interactive table.\"\n",
              "              style=\"display:none;\">\n",
              "        \n",
              "  <svg xmlns=\"http://www.w3.org/2000/svg\" height=\"24px\"viewBox=\"0 0 24 24\"\n",
              "       width=\"24px\">\n",
              "    <path d=\"M0 0h24v24H0V0z\" fill=\"none\"/>\n",
              "    <path d=\"M18.56 5.44l.94 2.06.94-2.06 2.06-.94-2.06-.94-.94-2.06-.94 2.06-2.06.94zm-11 1L8.5 8.5l.94-2.06 2.06-.94-2.06-.94L8.5 2.5l-.94 2.06-2.06.94zm10 10l.94 2.06.94-2.06 2.06-.94-2.06-.94-.94-2.06-.94 2.06-2.06.94z\"/><path d=\"M17.41 7.96l-1.37-1.37c-.4-.4-.92-.59-1.43-.59-.52 0-1.04.2-1.43.59L10.3 9.45l-7.72 7.72c-.78.78-.78 2.05 0 2.83L4 21.41c.39.39.9.59 1.41.59.51 0 1.02-.2 1.41-.59l7.78-7.78 2.81-2.81c.8-.78.8-2.07 0-2.86zM5.41 20L4 18.59l7.72-7.72 1.47 1.35L5.41 20z\"/>\n",
              "  </svg>\n",
              "      </button>\n",
              "      \n",
              "  <style>\n",
              "    .colab-df-container {\n",
              "      display:flex;\n",
              "      flex-wrap:wrap;\n",
              "      gap: 12px;\n",
              "    }\n",
              "\n",
              "    .colab-df-convert {\n",
              "      background-color: #E8F0FE;\n",
              "      border: none;\n",
              "      border-radius: 50%;\n",
              "      cursor: pointer;\n",
              "      display: none;\n",
              "      fill: #1967D2;\n",
              "      height: 32px;\n",
              "      padding: 0 0 0 0;\n",
              "      width: 32px;\n",
              "    }\n",
              "\n",
              "    .colab-df-convert:hover {\n",
              "      background-color: #E2EBFA;\n",
              "      box-shadow: 0px 1px 2px rgba(60, 64, 67, 0.3), 0px 1px 3px 1px rgba(60, 64, 67, 0.15);\n",
              "      fill: #174EA6;\n",
              "    }\n",
              "\n",
              "    [theme=dark] .colab-df-convert {\n",
              "      background-color: #3B4455;\n",
              "      fill: #D2E3FC;\n",
              "    }\n",
              "\n",
              "    [theme=dark] .colab-df-convert:hover {\n",
              "      background-color: #434B5C;\n",
              "      box-shadow: 0px 1px 3px 1px rgba(0, 0, 0, 0.15);\n",
              "      filter: drop-shadow(0px 1px 2px rgba(0, 0, 0, 0.3));\n",
              "      fill: #FFFFFF;\n",
              "    }\n",
              "  </style>\n",
              "\n",
              "      <script>\n",
              "        const buttonEl =\n",
              "          document.querySelector('#df-25ad63be-8df8-450f-8feb-6407cde29cb3 button.colab-df-convert');\n",
              "        buttonEl.style.display =\n",
              "          google.colab.kernel.accessAllowed ? 'block' : 'none';\n",
              "\n",
              "        async function convertToInteractive(key) {\n",
              "          const element = document.querySelector('#df-25ad63be-8df8-450f-8feb-6407cde29cb3');\n",
              "          const dataTable =\n",
              "            await google.colab.kernel.invokeFunction('convertToInteractive',\n",
              "                                                     [key], {});\n",
              "          if (!dataTable) return;\n",
              "\n",
              "          const docLinkHtml = 'Like what you see? Visit the ' +\n",
              "            '<a target=\"_blank\" href=https://colab.research.google.com/notebooks/data_table.ipynb>data table notebook</a>'\n",
              "            + ' to learn more about interactive tables.';\n",
              "          element.innerHTML = '';\n",
              "          dataTable['output_type'] = 'display_data';\n",
              "          await google.colab.output.renderOutput(dataTable, element);\n",
              "          const docLink = document.createElement('div');\n",
              "          docLink.innerHTML = docLinkHtml;\n",
              "          element.appendChild(docLink);\n",
              "        }\n",
              "      </script>\n",
              "    </div>\n",
              "  </div>\n",
              "  "
            ]
          },
          "metadata": {},
          "execution_count": 38
        }
      ]
    },
    {
      "cell_type": "code",
      "source": [
        "#Check to see the missing values in X_train_scaled\n",
        "X_train_scaled.isna().sum()"
      ],
      "metadata": {
        "id": "ZF6smywTTnE9",
        "colab": {
          "base_uri": "https://localhost:8080/"
        },
        "outputId": "6ec8ffd2-b905-4f0c-dab0-caec1750328c"
      },
      "execution_count": null,
      "outputs": [
        {
          "output_type": "execute_result",
          "data": {
            "text/plain": [
              "open_acc                   0\n",
              "funded_amnt                0\n",
              "int_rate                   0\n",
              "term                       0\n",
              "annual_inc                 0\n",
              "                          ..\n",
              "home_ownership_ANY         0\n",
              "home_ownership_MORTGAGE    0\n",
              "home_ownership_OTHER       0\n",
              "home_ownership_OWN         0\n",
              "home_ownership_RENT        0\n",
              "Length: 61, dtype: int64"
            ]
          },
          "metadata": {},
          "execution_count": 39
        }
      ]
    },
    {
      "cell_type": "markdown",
      "source": [
        "# This is assurance that our testing and training data have symmetrical shapes. "
      ],
      "metadata": {
        "id": "208fi3CaLZ-J"
      }
    },
    {
      "cell_type": "code",
      "source": [
        "\n",
        "#Check if data have right shape\n",
        "#Print the train response variable shape\n",
        "print(\"Train: Response Variable: \",y_train.shape)\n",
        "#Print the train feature variables shape\n",
        "print(\"Train: Feature Variables: \",X_train_scaled.shape)\n",
        "#Print the test response variable shape\n",
        "print(\"Test: Response Variable: \",y_test.shape)\n",
        "#Print the test feature variables shape\n",
        "print(\"Test: Feature Variables: \",X_test_scaled.shape)"
      ],
      "metadata": {
        "id": "SrsRvesITGk8",
        "colab": {
          "base_uri": "https://localhost:8080/"
        },
        "outputId": "1a37b7d3-f2ab-4d8a-91c8-e61ac562782c"
      },
      "execution_count": null,
      "outputs": [
        {
          "output_type": "stream",
          "name": "stdout",
          "text": [
            "Train: Response Variable:  (10351,)\n",
            "Train: Feature Variables:  (10351, 61)\n",
            "Test: Response Variable:  (2140,)\n",
            "Test: Feature Variables:  (2140, 61)\n"
          ]
        }
      ]
    },
    {
      "cell_type": "code",
      "source": [
        "#Instantiate a random forests classifier\n",
        "rf = RandomForestClassifier(n_estimators=25, criterion='gini')\n",
        "#Fit'rf' to the training set\n",
        "rf.fit(X_train_scaled, y_train)\n",
        "#Predict the test set labels 'y_pred'\n",
        "y_pred = rf.predict(X_test_scaled)\n",
        "#Print model accuracy\n",
        "print(f'Model Accuracy is {accuracy_score(y_test, y_pred)}\\n')"
      ],
      "metadata": {
        "id": "tMHR9j4pXnnC",
        "colab": {
          "base_uri": "https://localhost:8080/"
        },
        "outputId": "cd30a240-58cc-430d-8f21-55494eb859d0"
      },
      "execution_count": null,
      "outputs": [
        {
          "output_type": "stream",
          "name": "stdout",
          "text": [
            "Model Accuracy is 0.7616822429906542\n",
            "\n"
          ]
        }
      ]
    },
    {
      "cell_type": "markdown",
      "source": [
        "# Model Performance\n",
        "- we look at a confusion matrix to evaluate the performance of our model. \n",
        "- this will give us a better understanding than simly looking at the accuracy score reported above"
      ],
      "metadata": {
        "id": "El1G6YZxmdPf"
      }
    },
    {
      "cell_type": "code",
      "metadata": {
        "scrolled": false,
        "id": "vIwZ9h1Fn9Xz",
        "colab": {
          "base_uri": "https://localhost:8080/",
          "height": 498
        },
        "outputId": "2a74dd07-0845-4907-f5e5-196ba38cf5a1"
      },
      "source": [
        "#Borrowed from class notes\n",
        "#Visualize the confusion matrix to make it easier to read\n",
        "con_matrix = confusion_matrix(y_test, y_pred)\n",
        "#Create data frame with confusion matrix labels of charged off and fully paid\n",
        "confusion_matrix_df = pd.DataFrame(con_matrix, ('Charged Off', 'Fully Paid'), ('Charged Off', 'Fully Paid'))\n",
        "#Initialize the heatmap confusion matrix\n",
        "heatmap = sns.heatmap(confusion_matrix_df, annot=True, annot_kws={\"size\": 20}, fmt=\"d\", cmap=\"Blues\")\n",
        "#Edit the y axis labels on the heatmap confusion matrix\n",
        "heatmap.yaxis.set_ticklabels(heatmap.yaxis.get_ticklabels(), rotation=0, ha='right', fontsize = 14)\n",
        "#Edit the x axis labels on the heatmap confusion matrix\n",
        "heatmap.xaxis.set_ticklabels(heatmap.xaxis.get_ticklabels(), rotation=45, ha='right', fontsize = 14)\n",
        "#Plot the y label actual on the matrix\n",
        "plt.ylabel('Actual', fontsize = 14)\n",
        "#Plot the x label predicted on the matrix\n",
        "plt.xlabel('Predicted', fontsize = 14)\n",
        "# Print the classification report\n",
        "print(classification_report(y_test, y_pred))\n"
      ],
      "execution_count": null,
      "outputs": [
        {
          "output_type": "stream",
          "name": "stdout",
          "text": [
            "              precision    recall  f1-score   support\n",
            "\n",
            " Charged Off       0.31      0.07      0.12       468\n",
            "  Fully Paid       0.79      0.95      0.86      1672\n",
            "\n",
            "    accuracy                           0.76      2140\n",
            "   macro avg       0.55      0.51      0.49      2140\n",
            "weighted avg       0.68      0.76      0.70      2140\n",
            "\n"
          ]
        },
        {
          "output_type": "display_data",
          "data": {
            "text/plain": [
              "<Figure size 432x288 with 2 Axes>"
            ],
            "image/png": "[encoded data removed]"
          },
          "metadata": {
            "needs_background": "light"
          }
        }
      ]
    },
    {
      "cell_type": "markdown",
      "source": [
        "# Improved Random Forest Model (Model 2)\n",
        "\n",
        "## Upsampling\n",
        "\n",
        "- We realized that one major issue with our baseline random forest model is the asymmetry in our training data along our y variable. \n",
        "   - Our model is predicitng loan status\n",
        "   -However, our data has many more 'Fully Paid' loans when compared to 'Charged Off' loans.\n",
        "- We will upsample the number of 'Charged Off' loans in our training data, so that our model will be able to perform better on our testing data. "
      ],
      "metadata": {
        "id": "n7dL_5qct6ea"
      }
    },
    {
      "cell_type": "code",
      "source": [
        "#Create object minority that contains a loan status of charged off\n",
        "minority = train_data[train_data['loan_status'] == 'Charged Off']\n",
        "#Create object majority that contains a loan status of fully paid\n",
        "majority = train_data[train_data['loan_status'] == 'Fully Paid']"
      ],
      "metadata": {
        "id": "vJqdN57ZttcC"
      },
      "execution_count": null,
      "outputs": []
    },
    {
      "cell_type": "code",
      "source": [
        "#Creating half the data by resampling on the size of the majority sample\n",
        "minority_upsampled = resample(minority, replace = True, n_samples = len(majority.index))\n",
        "#Join the majority sample and upsampled minority in one object\n",
        "upsampled_data = majority.append(minority_upsampled)"
      ],
      "metadata": {
        "id": "9ykHRp2-zSkv"
      },
      "execution_count": null,
      "outputs": []
    },
    {
      "cell_type": "code",
      "source": [
        "#Find the number of charged off and fully paid loans in the unsampled_data\n",
        "upsampled_data.groupby(['loan_status']).count()"
      ],
      "metadata": {
        "id": "t-OCfP6Iz1E5",
        "colab": {
          "base_uri": "https://localhost:8080/",
          "height": 143
        },
        "outputId": "85f1079d-b92b-41dc-dda3-c8ecc5c34f11"
      },
      "execution_count": null,
      "outputs": [
        {
          "output_type": "execute_result",
          "data": {
            "text/plain": [
              "             open_acc  funded_amnt  int_rate  term  verification_status  \\\n",
              "loan_status                                                               \n",
              "Charged Off      8320         8320      8320  8320                 8320   \n",
              "Fully Paid       8320         8320      8320  8320                 8320   \n",
              "\n",
              "             annual_inc  installment  application_type  grade  sub_grade  \\\n",
              "loan_status                                                                \n",
              "Charged Off        8320         8320              8320   8320       8320   \n",
              "Fully Paid         8320         8320              8320   8320       8320   \n",
              "\n",
              "             home_ownership  fico  issue_yr  expected_total_payment  \n",
              "loan_status                                                          \n",
              "Charged Off            8320  8320      8320                    8320  \n",
              "Fully Paid             8320  8320      8320                    8320  "
            ],
            "text/html": [
              "\n",
              "  <div id=\"df-646c3c9a-a31f-40bf-b503-76ec65c1e95d\">\n",
              "    <div class=\"colab-df-container\">\n",
              "      <div>\n",
              "<style scoped>\n",
              "    .dataframe tbody tr th:only-of-type {\n",
              "        vertical-align: middle;\n",
              "    }\n",
              "\n",
              "    .dataframe tbody tr th {\n",
              "        vertical-align: top;\n",
              "    }\n",
              "\n",
              "    .dataframe thead th {\n",
              "        text-align: right;\n",
              "    }\n",
              "</style>\n",
              "<table border=\"1\" class=\"dataframe\">\n",
              "  <thead>\n",
              "    <tr style=\"text-align: right;\">\n",
              "      <th></th>\n",
              "      <th>open_acc</th>\n",
              "      <th>funded_amnt</th>\n",
              "      <th>int_rate</th>\n",
              "      <th>term</th>\n",
              "      <th>verification_status</th>\n",
              "      <th>annual_inc</th>\n",
              "      <th>installment</th>\n",
              "      <th>application_type</th>\n",
              "      <th>grade</th>\n",
              "      <th>sub_grade</th>\n",
              "      <th>home_ownership</th>\n",
              "      <th>fico</th>\n",
              "      <th>issue_yr</th>\n",
              "      <th>expected_total_payment</th>\n",
              "    </tr>\n",
              "    <tr>\n",
              "      <th>loan_status</th>\n",
              "      <th></th>\n",
              "      <th></th>\n",
              "      <th></th>\n",
              "      <th></th>\n",
              "      <th></th>\n",
              "      <th></th>\n",
              "      <th></th>\n",
              "      <th></th>\n",
              "      <th></th>\n",
              "      <th></th>\n",
              "      <th></th>\n",
              "      <th></th>\n",
              "      <th></th>\n",
              "      <th></th>\n",
              "    </tr>\n",
              "  </thead>\n",
              "  <tbody>\n",
              "    <tr>\n",
              "      <th>Charged Off</th>\n",
              "      <td>8320</td>\n",
              "      <td>8320</td>\n",
              "      <td>8320</td>\n",
              "      <td>8320</td>\n",
              "      <td>8320</td>\n",
              "      <td>8320</td>\n",
              "      <td>8320</td>\n",
              "      <td>8320</td>\n",
              "      <td>8320</td>\n",
              "      <td>8320</td>\n",
              "      <td>8320</td>\n",
              "      <td>8320</td>\n",
              "      <td>8320</td>\n",
              "      <td>8320</td>\n",
              "    </tr>\n",
              "    <tr>\n",
              "      <th>Fully Paid</th>\n",
              "      <td>8320</td>\n",
              "      <td>8320</td>\n",
              "      <td>8320</td>\n",
              "      <td>8320</td>\n",
              "      <td>8320</td>\n",
              "      <td>8320</td>\n",
              "      <td>8320</td>\n",
              "      <td>8320</td>\n",
              "      <td>8320</td>\n",
              "      <td>8320</td>\n",
              "      <td>8320</td>\n",
              "      <td>8320</td>\n",
              "      <td>8320</td>\n",
              "      <td>8320</td>\n",
              "    </tr>\n",
              "  </tbody>\n",
              "</table>\n",
              "</div>\n",
              "      <button class=\"colab-df-convert\" onclick=\"convertToInteractive('df-646c3c9a-a31f-40bf-b503-76ec65c1e95d')\"\n",
              "              title=\"Convert this dataframe to an interactive table.\"\n",
              "              style=\"display:none;\">\n",
              "        \n",
              "  <svg xmlns=\"http://www.w3.org/2000/svg\" height=\"24px\"viewBox=\"0 0 24 24\"\n",
              "       width=\"24px\">\n",
              "    <path d=\"M0 0h24v24H0V0z\" fill=\"none\"/>\n",
              "    <path d=\"M18.56 5.44l.94 2.06.94-2.06 2.06-.94-2.06-.94-.94-2.06-.94 2.06-2.06.94zm-11 1L8.5 8.5l.94-2.06 2.06-.94-2.06-.94L8.5 2.5l-.94 2.06-2.06.94zm10 10l.94 2.06.94-2.06 2.06-.94-2.06-.94-.94-2.06-.94 2.06-2.06.94z\"/><path d=\"M17.41 7.96l-1.37-1.37c-.4-.4-.92-.59-1.43-.59-.52 0-1.04.2-1.43.59L10.3 9.45l-7.72 7.72c-.78.78-.78 2.05 0 2.83L4 21.41c.39.39.9.59 1.41.59.51 0 1.02-.2 1.41-.59l7.78-7.78 2.81-2.81c.8-.78.8-2.07 0-2.86zM5.41 20L4 18.59l7.72-7.72 1.47 1.35L5.41 20z\"/>\n",
              "  </svg>\n",
              "      </button>\n",
              "      \n",
              "  <style>\n",
              "    .colab-df-container {\n",
              "      display:flex;\n",
              "      flex-wrap:wrap;\n",
              "      gap: 12px;\n",
              "    }\n",
              "\n",
              "    .colab-df-convert {\n",
              "      background-color: #E8F0FE;\n",
              "      border: none;\n",
              "      border-radius: 50%;\n",
              "      cursor: pointer;\n",
              "      display: none;\n",
              "      fill: #1967D2;\n",
              "      height: 32px;\n",
              "      padding: 0 0 0 0;\n",
              "      width: 32px;\n",
              "    }\n",
              "\n",
              "    .colab-df-convert:hover {\n",
              "      background-color: #E2EBFA;\n",
              "      box-shadow: 0px 1px 2px rgba(60, 64, 67, 0.3), 0px 1px 3px 1px rgba(60, 64, 67, 0.15);\n",
              "      fill: #174EA6;\n",
              "    }\n",
              "\n",
              "    [theme=dark] .colab-df-convert {\n",
              "      background-color: #3B4455;\n",
              "      fill: #D2E3FC;\n",
              "    }\n",
              "\n",
              "    [theme=dark] .colab-df-convert:hover {\n",
              "      background-color: #434B5C;\n",
              "      box-shadow: 0px 1px 3px 1px rgba(0, 0, 0, 0.15);\n",
              "      filter: drop-shadow(0px 1px 2px rgba(0, 0, 0, 0.3));\n",
              "      fill: #FFFFFF;\n",
              "    }\n",
              "  </style>\n",
              "\n",
              "      <script>\n",
              "        const buttonEl =\n",
              "          document.querySelector('#df-646c3c9a-a31f-40bf-b503-76ec65c1e95d button.colab-df-convert');\n",
              "        buttonEl.style.display =\n",
              "          google.colab.kernel.accessAllowed ? 'block' : 'none';\n",
              "\n",
              "        async function convertToInteractive(key) {\n",
              "          const element = document.querySelector('#df-646c3c9a-a31f-40bf-b503-76ec65c1e95d');\n",
              "          const dataTable =\n",
              "            await google.colab.kernel.invokeFunction('convertToInteractive',\n",
              "                                                     [key], {});\n",
              "          if (!dataTable) return;\n",
              "\n",
              "          const docLinkHtml = 'Like what you see? Visit the ' +\n",
              "            '<a target=\"_blank\" href=https://colab.research.google.com/notebooks/data_table.ipynb>data table notebook</a>'\n",
              "            + ' to learn more about interactive tables.';\n",
              "          element.innerHTML = '';\n",
              "          dataTable['output_type'] = 'display_data';\n",
              "          await google.colab.output.renderOutput(dataTable, element);\n",
              "          const docLink = document.createElement('div');\n",
              "          docLink.innerHTML = docLinkHtml;\n",
              "          element.appendChild(docLink);\n",
              "        }\n",
              "      </script>\n",
              "    </div>\n",
              "  </div>\n",
              "  "
            ]
          },
          "metadata": {},
          "execution_count": 45
        }
      ]
    },
    {
      "cell_type": "markdown",
      "source": [
        "# Split our upsampled data into a training and testing set\n",
        "- the training data contains cases from years 2012 -2016\n",
        "- the testing data contains csaes from years 2017-2018"
      ],
      "metadata": {
        "id": "xXTkAJWPB8zz"
      }
    },
    {
      "cell_type": "code",
      "source": [
        "#Keep the data with issue years greater than 2012\n",
        "mod_dt = upsampled_data[(upsampled_data[\"issue_yr\"] >= 2012)]\n",
        "#Assigning test data to be all data with an issue year greater than or equal to 2017\n",
        "upsampled_test_data = mod_dt[mod_dt['issue_yr'] >= 2017]\n",
        "#Assigning training data to be all data with an issue year less than 2017\n",
        "upsampled_train_data = mod_dt[mod_dt['issue_yr'] < 2017]"
      ],
      "metadata": {
        "id": "1Nbz0AIyRIGY"
      },
      "execution_count": null,
      "outputs": []
    },
    {
      "cell_type": "code",
      "source": [
        "# 1 Create a new dataframe X that includes only our feature variables\n",
        "X_upsampled_train = upsampled_train_data.loc[:,upsampled_data.columns != 'loan_status'].copy()\n",
        "#Create a new dataframe y that includes loan status\n",
        "y_upsampled_train = upsampled_train_data['loan_status'].copy()\n",
        "#Now you need to one hot encode the categorical features to make them machine readable. \n",
        "X_upsampled_train = pd.get_dummies(X_upsampled_train, drop_first=False).copy()\n",
        "#Show the first five rows of X_upsampled_train\n",
        "display(X_upsampled_train.head())\n",
        "\n"
      ],
      "metadata": {
        "id": "eAtMonO0RIGY",
        "colab": {
          "base_uri": "https://localhost:8080/",
          "height": 317
        },
        "outputId": "f3f1247e-b698-4916-fdc4-6d46318edef2"
      },
      "execution_count": null,
      "outputs": [
        {
          "output_type": "display_data",
          "data": {
            "text/plain": [
              "   open_acc  funded_amnt  int_rate  term  annual_inc  installment   fico  \\\n",
              "3      11.0      26250.0     13.99    60     65000.0       610.66  702.0   \n",
              "4      15.0      11200.0      9.17    36     53000.0       357.05  722.0   \n",
              "6      20.0       6000.0      5.32    36     80000.0       180.69  747.0   \n",
              "7       9.0      30000.0     19.48    60     88000.0       786.17  667.0   \n",
              "8      28.0      35000.0     13.44    36     86000.0      1186.72  672.0   \n",
              "\n",
              "   issue_yr  expected_total_payment  verification_status_Not Verified  ...  \\\n",
              "3      2015                36639.60                                 0  ...   \n",
              "4      2015                12853.80                                 1  ...   \n",
              "6      2015                 6504.84                                 1  ...   \n",
              "7      2015                47170.20                                 0  ...   \n",
              "8      2015                42721.92                                 0  ...   \n",
              "\n",
              "   sub_grade_G1  sub_grade_G2  sub_grade_G3  sub_grade_G4  sub_grade_G5  \\\n",
              "3             0             0             0             0             0   \n",
              "4             0             0             0             0             0   \n",
              "6             0             0             0             0             0   \n",
              "7             0             0             0             0             0   \n",
              "8             0             0             0             0             0   \n",
              "\n",
              "   home_ownership_ANY  home_ownership_MORTGAGE  home_ownership_OTHER  \\\n",
              "3                   0                        1                     0   \n",
              "4                   0                        1                     0   \n",
              "6                   0                        1                     0   \n",
              "7                   0                        1                     0   \n",
              "8                   0                        0                     0   \n",
              "\n",
              "   home_ownership_OWN  home_ownership_RENT  \n",
              "3                   0                    0  \n",
              "4                   0                    0  \n",
              "6                   0                    0  \n",
              "7                   0                    0  \n",
              "8                   0                    1  \n",
              "\n",
              "[5 rows x 61 columns]"
            ],
            "text/html": [
              "\n",
              "  <div id=\"df-d97d5d06-b7e1-418f-9083-c6e23b94df3f\">\n",
              "    <div class=\"colab-df-container\">\n",
              "      <div>\n",
              "<style scoped>\n",
              "    .dataframe tbody tr th:only-of-type {\n",
              "        vertical-align: middle;\n",
              "    }\n",
              "\n",
              "    .dataframe tbody tr th {\n",
              "        vertical-align: top;\n",
              "    }\n",
              "\n",
              "    .dataframe thead th {\n",
              "        text-align: right;\n",
              "    }\n",
              "</style>\n",
              "<table border=\"1\" class=\"dataframe\">\n",
              "  <thead>\n",
              "    <tr style=\"text-align: right;\">\n",
              "      <th></th>\n",
              "      <th>open_acc</th>\n",
              "      <th>funded_amnt</th>\n",
              "      <th>int_rate</th>\n",
              "      <th>term</th>\n",
              "      <th>annual_inc</th>\n",
              "      <th>installment</th>\n",
              "      <th>fico</th>\n",
              "      <th>issue_yr</th>\n",
              "      <th>expected_total_payment</th>\n",
              "      <th>verification_status_Not Verified</th>\n",
              "      <th>...</th>\n",
              "      <th>sub_grade_G1</th>\n",
              "      <th>sub_grade_G2</th>\n",
              "      <th>sub_grade_G3</th>\n",
              "      <th>sub_grade_G4</th>\n",
              "      <th>sub_grade_G5</th>\n",
              "      <th>home_ownership_ANY</th>\n",
              "      <th>home_ownership_MORTGAGE</th>\n",
              "      <th>home_ownership_OTHER</th>\n",
              "      <th>home_ownership_OWN</th>\n",
              "      <th>home_ownership_RENT</th>\n",
              "    </tr>\n",
              "  </thead>\n",
              "  <tbody>\n",
              "    <tr>\n",
              "      <th>3</th>\n",
              "      <td>11.0</td>\n",
              "      <td>26250.0</td>\n",
              "      <td>13.99</td>\n",
              "      <td>60</td>\n",
              "      <td>65000.0</td>\n",
              "      <td>610.66</td>\n",
              "      <td>702.0</td>\n",
              "      <td>2015</td>\n",
              "      <td>36639.60</td>\n",
              "      <td>0</td>\n",
              "      <td>...</td>\n",
              "      <td>0</td>\n",
              "      <td>0</td>\n",
              "      <td>0</td>\n",
              "      <td>0</td>\n",
              "      <td>0</td>\n",
              "      <td>0</td>\n",
              "      <td>1</td>\n",
              "      <td>0</td>\n",
              "      <td>0</td>\n",
              "      <td>0</td>\n",
              "    </tr>\n",
              "    <tr>\n",
              "      <th>4</th>\n",
              "      <td>15.0</td>\n",
              "      <td>11200.0</td>\n",
              "      <td>9.17</td>\n",
              "      <td>36</td>\n",
              "      <td>53000.0</td>\n",
              "      <td>357.05</td>\n",
              "      <td>722.0</td>\n",
              "      <td>2015</td>\n",
              "      <td>12853.80</td>\n",
              "      <td>1</td>\n",
              "      <td>...</td>\n",
              "      <td>0</td>\n",
              "      <td>0</td>\n",
              "      <td>0</td>\n",
              "      <td>0</td>\n",
              "      <td>0</td>\n",
              "      <td>0</td>\n",
              "      <td>1</td>\n",
              "      <td>0</td>\n",
              "      <td>0</td>\n",
              "      <td>0</td>\n",
              "    </tr>\n",
              "    <tr>\n",
              "      <th>6</th>\n",
              "      <td>20.0</td>\n",
              "      <td>6000.0</td>\n",
              "      <td>5.32</td>\n",
              "      <td>36</td>\n",
              "      <td>80000.0</td>\n",
              "      <td>180.69</td>\n",
              "      <td>747.0</td>\n",
              "      <td>2015</td>\n",
              "      <td>6504.84</td>\n",
              "      <td>1</td>\n",
              "      <td>...</td>\n",
              "      <td>0</td>\n",
              "      <td>0</td>\n",
              "      <td>0</td>\n",
              "      <td>0</td>\n",
              "      <td>0</td>\n",
              "      <td>0</td>\n",
              "      <td>1</td>\n",
              "      <td>0</td>\n",
              "      <td>0</td>\n",
              "      <td>0</td>\n",
              "    </tr>\n",
              "    <tr>\n",
              "      <th>7</th>\n",
              "      <td>9.0</td>\n",
              "      <td>30000.0</td>\n",
              "      <td>19.48</td>\n",
              "      <td>60</td>\n",
              "      <td>88000.0</td>\n",
              "      <td>786.17</td>\n",
              "      <td>667.0</td>\n",
              "      <td>2015</td>\n",
              "      <td>47170.20</td>\n",
              "      <td>0</td>\n",
              "      <td>...</td>\n",
              "      <td>0</td>\n",
              "      <td>0</td>\n",
              "      <td>0</td>\n",
              "      <td>0</td>\n",
              "      <td>0</td>\n",
              "      <td>0</td>\n",
              "      <td>1</td>\n",
              "      <td>0</td>\n",
              "      <td>0</td>\n",
              "      <td>0</td>\n",
              "    </tr>\n",
              "    <tr>\n",
              "      <th>8</th>\n",
              "      <td>28.0</td>\n",
              "      <td>35000.0</td>\n",
              "      <td>13.44</td>\n",
              "      <td>36</td>\n",
              "      <td>86000.0</td>\n",
              "      <td>1186.72</td>\n",
              "      <td>672.0</td>\n",
              "      <td>2015</td>\n",
              "      <td>42721.92</td>\n",
              "      <td>0</td>\n",
              "      <td>...</td>\n",
              "      <td>0</td>\n",
              "      <td>0</td>\n",
              "      <td>0</td>\n",
              "      <td>0</td>\n",
              "      <td>0</td>\n",
              "      <td>0</td>\n",
              "      <td>0</td>\n",
              "      <td>0</td>\n",
              "      <td>0</td>\n",
              "      <td>1</td>\n",
              "    </tr>\n",
              "  </tbody>\n",
              "</table>\n",
              "<p>5 rows × 61 columns</p>\n",
              "</div>\n",
              "      <button class=\"colab-df-convert\" onclick=\"convertToInteractive('df-d97d5d06-b7e1-418f-9083-c6e23b94df3f')\"\n",
              "              title=\"Convert this dataframe to an interactive table.\"\n",
              "              style=\"display:none;\">\n",
              "        \n",
              "  <svg xmlns=\"http://www.w3.org/2000/svg\" height=\"24px\"viewBox=\"0 0 24 24\"\n",
              "       width=\"24px\">\n",
              "    <path d=\"M0 0h24v24H0V0z\" fill=\"none\"/>\n",
              "    <path d=\"M18.56 5.44l.94 2.06.94-2.06 2.06-.94-2.06-.94-.94-2.06-.94 2.06-2.06.94zm-11 1L8.5 8.5l.94-2.06 2.06-.94-2.06-.94L8.5 2.5l-.94 2.06-2.06.94zm10 10l.94 2.06.94-2.06 2.06-.94-2.06-.94-.94-2.06-.94 2.06-2.06.94z\"/><path d=\"M17.41 7.96l-1.37-1.37c-.4-.4-.92-.59-1.43-.59-.52 0-1.04.2-1.43.59L10.3 9.45l-7.72 7.72c-.78.78-.78 2.05 0 2.83L4 21.41c.39.39.9.59 1.41.59.51 0 1.02-.2 1.41-.59l7.78-7.78 2.81-2.81c.8-.78.8-2.07 0-2.86zM5.41 20L4 18.59l7.72-7.72 1.47 1.35L5.41 20z\"/>\n",
              "  </svg>\n",
              "      </button>\n",
              "      \n",
              "  <style>\n",
              "    .colab-df-container {\n",
              "      display:flex;\n",
              "      flex-wrap:wrap;\n",
              "      gap: 12px;\n",
              "    }\n",
              "\n",
              "    .colab-df-convert {\n",
              "      background-color: #E8F0FE;\n",
              "      border: none;\n",
              "      border-radius: 50%;\n",
              "      cursor: pointer;\n",
              "      display: none;\n",
              "      fill: #1967D2;\n",
              "      height: 32px;\n",
              "      padding: 0 0 0 0;\n",
              "      width: 32px;\n",
              "    }\n",
              "\n",
              "    .colab-df-convert:hover {\n",
              "      background-color: #E2EBFA;\n",
              "      box-shadow: 0px 1px 2px rgba(60, 64, 67, 0.3), 0px 1px 3px 1px rgba(60, 64, 67, 0.15);\n",
              "      fill: #174EA6;\n",
              "    }\n",
              "\n",
              "    [theme=dark] .colab-df-convert {\n",
              "      background-color: #3B4455;\n",
              "      fill: #D2E3FC;\n",
              "    }\n",
              "\n",
              "    [theme=dark] .colab-df-convert:hover {\n",
              "      background-color: #434B5C;\n",
              "      box-shadow: 0px 1px 3px 1px rgba(0, 0, 0, 0.15);\n",
              "      filter: drop-shadow(0px 1px 2px rgba(0, 0, 0, 0.3));\n",
              "      fill: #FFFFFF;\n",
              "    }\n",
              "  </style>\n",
              "\n",
              "      <script>\n",
              "        const buttonEl =\n",
              "          document.querySelector('#df-d97d5d06-b7e1-418f-9083-c6e23b94df3f button.colab-df-convert');\n",
              "        buttonEl.style.display =\n",
              "          google.colab.kernel.accessAllowed ? 'block' : 'none';\n",
              "\n",
              "        async function convertToInteractive(key) {\n",
              "          const element = document.querySelector('#df-d97d5d06-b7e1-418f-9083-c6e23b94df3f');\n",
              "          const dataTable =\n",
              "            await google.colab.kernel.invokeFunction('convertToInteractive',\n",
              "                                                     [key], {});\n",
              "          if (!dataTable) return;\n",
              "\n",
              "          const docLinkHtml = 'Like what you see? Visit the ' +\n",
              "            '<a target=\"_blank\" href=https://colab.research.google.com/notebooks/data_table.ipynb>data table notebook</a>'\n",
              "            + ' to learn more about interactive tables.';\n",
              "          element.innerHTML = '';\n",
              "          dataTable['output_type'] = 'display_data';\n",
              "          await google.colab.output.renderOutput(dataTable, element);\n",
              "          const docLink = document.createElement('div');\n",
              "          docLink.innerHTML = docLinkHtml;\n",
              "          element.appendChild(docLink);\n",
              "        }\n",
              "      </script>\n",
              "    </div>\n",
              "  </div>\n",
              "  "
            ]
          },
          "metadata": {}
        }
      ]
    },
    {
      "cell_type": "code",
      "source": [
        "#Borrowed from class notess\n",
        "#This function loops through columns in a feature set and defines a predefined scaler to each\n",
        "def scale_numeric(features, numeric_features, scaler):\n",
        "  #For loop through the numeric features\n",
        "    for col in numeric_features:\n",
        "      #Reshaping the column\n",
        "        features[col] = scaler.fit_transform(features[col].values.reshape(-1, 1))\n",
        "    #Return the column\n",
        "    return features\n",
        "\n",
        "#We can now define the scaler we want to use and apply it to our features \n",
        "#Create an array called numeric_features with numeric variables\n",
        "numeric_features = ['open_acc', 'funded_amnt', 'int_rate', 'term', 'annual_inc',\n",
        "       'installment', 'fico', 'expected_total_payment']\n",
        "       #Store the minmax scaler in scaler\n",
        "scaler = MinMaxScaler()\n",
        "#Call scale_numeric function in X_upsampled_train\n",
        "X_upsampled_train = scale_numeric(X_upsampled_train, numeric_features, scaler)\n",
        "#Check to see if it worked\n",
        "X_upsampled_train.describe()"
      ],
      "metadata": {
        "id": "uuLcy1G8Q1Pe",
        "colab": {
          "base_uri": "https://localhost:8080/",
          "height": 411
        },
        "outputId": "ce09407b-d049-40bc-fabd-8a029a7d88a2"
      },
      "execution_count": null,
      "outputs": [
        {
          "output_type": "execute_result",
          "data": {
            "text/plain": [
              "           open_acc   funded_amnt      int_rate          term    annual_inc  \\\n",
              "count  16640.000000  16640.000000  16640.000000  16640.000000  16640.000000   \n",
              "mean       0.388626      0.350629      0.393946      0.303125      0.185033   \n",
              "std        0.185093      0.213457      0.208134      0.459623      0.111955   \n",
              "min        0.000000      0.000000      0.000000      0.000000      0.000000   \n",
              "25%        0.259259      0.179487      0.255751      0.000000      0.111111   \n",
              "50%        0.370370      0.307692      0.376635      0.000000      0.158333   \n",
              "75%        0.481481      0.487179      0.526387      1.000000      0.227778   \n",
              "max        1.000000      1.000000      1.000000      1.000000      1.000000   \n",
              "\n",
              "        installment          fico      issue_yr  expected_total_payment  \\\n",
              "count  16640.000000  16640.000000  16640.000000            16640.000000   \n",
              "mean       0.338495      0.229073   2014.678786                0.301009   \n",
              "std        0.199274      0.201653      1.143423                0.199912   \n",
              "min        0.000000      0.000000   2012.000000                0.000000   \n",
              "25%        0.195270      0.074074   2014.000000                0.145618   \n",
              "50%        0.293537      0.185185   2015.000000                0.262377   \n",
              "75%        0.455062      0.333333   2016.000000                0.421437   \n",
              "max        1.000000      1.000000   2016.000000                1.000000   \n",
              "\n",
              "       verification_status_Not Verified  ...  sub_grade_G1  sub_grade_G2  \\\n",
              "count                      16640.000000  ...  16640.000000  16640.000000   \n",
              "mean                           0.269892  ...      0.002825      0.001262   \n",
              "std                            0.443917  ...      0.053073      0.035504   \n",
              "min                            0.000000  ...      0.000000      0.000000   \n",
              "25%                            0.000000  ...      0.000000      0.000000   \n",
              "50%                            0.000000  ...      0.000000      0.000000   \n",
              "75%                            1.000000  ...      0.000000      0.000000   \n",
              "max                            1.000000  ...      1.000000      1.000000   \n",
              "\n",
              "       sub_grade_G3  sub_grade_G4  sub_grade_G5  home_ownership_ANY  \\\n",
              "count  16640.000000  16640.000000  16640.000000        16640.000000   \n",
              "mean       0.001863      0.000300      0.000421            0.000060   \n",
              "std        0.043123      0.017332      0.020507            0.007752   \n",
              "min        0.000000      0.000000      0.000000            0.000000   \n",
              "25%        0.000000      0.000000      0.000000            0.000000   \n",
              "50%        0.000000      0.000000      0.000000            0.000000   \n",
              "75%        0.000000      0.000000      0.000000            0.000000   \n",
              "max        1.000000      1.000000      1.000000            1.000000   \n",
              "\n",
              "       home_ownership_MORTGAGE  home_ownership_OTHER  home_ownership_OWN  \\\n",
              "count             16640.000000               16640.0        16640.000000   \n",
              "mean                  0.481971                   0.0            0.104567   \n",
              "std                   0.499690                   0.0            0.306004   \n",
              "min                   0.000000                   0.0            0.000000   \n",
              "25%                   0.000000                   0.0            0.000000   \n",
              "50%                   0.000000                   0.0            0.000000   \n",
              "75%                   1.000000                   0.0            0.000000   \n",
              "max                   1.000000                   0.0            1.000000   \n",
              "\n",
              "       home_ownership_RENT  \n",
              "count         16640.000000  \n",
              "mean              0.413401  \n",
              "std               0.492458  \n",
              "min               0.000000  \n",
              "25%               0.000000  \n",
              "50%               0.000000  \n",
              "75%               1.000000  \n",
              "max               1.000000  \n",
              "\n",
              "[8 rows x 61 columns]"
            ],
            "text/html": [
              "\n",
              "  <div id=\"df-fff25df2-9d94-4d73-8ce7-7554973d4ae9\">\n",
              "    <div class=\"colab-df-container\">\n",
              "      <div>\n",
              "<style scoped>\n",
              "    .dataframe tbody tr th:only-of-type {\n",
              "        vertical-align: middle;\n",
              "    }\n",
              "\n",
              "    .dataframe tbody tr th {\n",
              "        vertical-align: top;\n",
              "    }\n",
              "\n",
              "    .dataframe thead th {\n",
              "        text-align: right;\n",
              "    }\n",
              "</style>\n",
              "<table border=\"1\" class=\"dataframe\">\n",
              "  <thead>\n",
              "    <tr style=\"text-align: right;\">\n",
              "      <th></th>\n",
              "      <th>open_acc</th>\n",
              "      <th>funded_amnt</th>\n",
              "      <th>int_rate</th>\n",
              "      <th>term</th>\n",
              "      <th>annual_inc</th>\n",
              "      <th>installment</th>\n",
              "      <th>fico</th>\n",
              "      <th>issue_yr</th>\n",
              "      <th>expected_total_payment</th>\n",
              "      <th>verification_status_Not Verified</th>\n",
              "      <th>...</th>\n",
              "      <th>sub_grade_G1</th>\n",
              "      <th>sub_grade_G2</th>\n",
              "      <th>sub_grade_G3</th>\n",
              "      <th>sub_grade_G4</th>\n",
              "      <th>sub_grade_G5</th>\n",
              "      <th>home_ownership_ANY</th>\n",
              "      <th>home_ownership_MORTGAGE</th>\n",
              "      <th>home_ownership_OTHER</th>\n",
              "      <th>home_ownership_OWN</th>\n",
              "      <th>home_ownership_RENT</th>\n",
              "    </tr>\n",
              "  </thead>\n",
              "  <tbody>\n",
              "    <tr>\n",
              "      <th>count</th>\n",
              "      <td>16640.000000</td>\n",
              "      <td>16640.000000</td>\n",
              "      <td>16640.000000</td>\n",
              "      <td>16640.000000</td>\n",
              "      <td>16640.000000</td>\n",
              "      <td>16640.000000</td>\n",
              "      <td>16640.000000</td>\n",
              "      <td>16640.000000</td>\n",
              "      <td>16640.000000</td>\n",
              "      <td>16640.000000</td>\n",
              "      <td>...</td>\n",
              "      <td>16640.000000</td>\n",
              "      <td>16640.000000</td>\n",
              "      <td>16640.000000</td>\n",
              "      <td>16640.000000</td>\n",
              "      <td>16640.000000</td>\n",
              "      <td>16640.000000</td>\n",
              "      <td>16640.000000</td>\n",
              "      <td>16640.0</td>\n",
              "      <td>16640.000000</td>\n",
              "      <td>16640.000000</td>\n",
              "    </tr>\n",
              "    <tr>\n",
              "      <th>mean</th>\n",
              "      <td>0.388626</td>\n",
              "      <td>0.350629</td>\n",
              "      <td>0.393946</td>\n",
              "      <td>0.303125</td>\n",
              "      <td>0.185033</td>\n",
              "      <td>0.338495</td>\n",
              "      <td>0.229073</td>\n",
              "      <td>2014.678786</td>\n",
              "      <td>0.301009</td>\n",
              "      <td>0.269892</td>\n",
              "      <td>...</td>\n",
              "      <td>0.002825</td>\n",
              "      <td>0.001262</td>\n",
              "      <td>0.001863</td>\n",
              "      <td>0.000300</td>\n",
              "      <td>0.000421</td>\n",
              "      <td>0.000060</td>\n",
              "      <td>0.481971</td>\n",
              "      <td>0.0</td>\n",
              "      <td>0.104567</td>\n",
              "      <td>0.413401</td>\n",
              "    </tr>\n",
              "    <tr>\n",
              "      <th>std</th>\n",
              "      <td>0.185093</td>\n",
              "      <td>0.213457</td>\n",
              "      <td>0.208134</td>\n",
              "      <td>0.459623</td>\n",
              "      <td>0.111955</td>\n",
              "      <td>0.199274</td>\n",
              "      <td>0.201653</td>\n",
              "      <td>1.143423</td>\n",
              "      <td>0.199912</td>\n",
              "      <td>0.443917</td>\n",
              "      <td>...</td>\n",
              "      <td>0.053073</td>\n",
              "      <td>0.035504</td>\n",
              "      <td>0.043123</td>\n",
              "      <td>0.017332</td>\n",
              "      <td>0.020507</td>\n",
              "      <td>0.007752</td>\n",
              "      <td>0.499690</td>\n",
              "      <td>0.0</td>\n",
              "      <td>0.306004</td>\n",
              "      <td>0.492458</td>\n",
              "    </tr>\n",
              "    <tr>\n",
              "      <th>min</th>\n",
              "      <td>0.000000</td>\n",
              "      <td>0.000000</td>\n",
              "      <td>0.000000</td>\n",
              "      <td>0.000000</td>\n",
              "      <td>0.000000</td>\n",
              "      <td>0.000000</td>\n",
              "      <td>0.000000</td>\n",
              "      <td>2012.000000</td>\n",
              "      <td>0.000000</td>\n",
              "      <td>0.000000</td>\n",
              "      <td>...</td>\n",
              "      <td>0.000000</td>\n",
              "      <td>0.000000</td>\n",
              "      <td>0.000000</td>\n",
              "      <td>0.000000</td>\n",
              "      <td>0.000000</td>\n",
              "      <td>0.000000</td>\n",
              "      <td>0.000000</td>\n",
              "      <td>0.0</td>\n",
              "      <td>0.000000</td>\n",
              "      <td>0.000000</td>\n",
              "    </tr>\n",
              "    <tr>\n",
              "      <th>25%</th>\n",
              "      <td>0.259259</td>\n",
              "      <td>0.179487</td>\n",
              "      <td>0.255751</td>\n",
              "      <td>0.000000</td>\n",
              "      <td>0.111111</td>\n",
              "      <td>0.195270</td>\n",
              "      <td>0.074074</td>\n",
              "      <td>2014.000000</td>\n",
              "      <td>0.145618</td>\n",
              "      <td>0.000000</td>\n",
              "      <td>...</td>\n",
              "      <td>0.000000</td>\n",
              "      <td>0.000000</td>\n",
              "      <td>0.000000</td>\n",
              "      <td>0.000000</td>\n",
              "      <td>0.000000</td>\n",
              "      <td>0.000000</td>\n",
              "      <td>0.000000</td>\n",
              "      <td>0.0</td>\n",
              "      <td>0.000000</td>\n",
              "      <td>0.000000</td>\n",
              "    </tr>\n",
              "    <tr>\n",
              "      <th>50%</th>\n",
              "      <td>0.370370</td>\n",
              "      <td>0.307692</td>\n",
              "      <td>0.376635</td>\n",
              "      <td>0.000000</td>\n",
              "      <td>0.158333</td>\n",
              "      <td>0.293537</td>\n",
              "      <td>0.185185</td>\n",
              "      <td>2015.000000</td>\n",
              "      <td>0.262377</td>\n",
              "      <td>0.000000</td>\n",
              "      <td>...</td>\n",
              "      <td>0.000000</td>\n",
              "      <td>0.000000</td>\n",
              "      <td>0.000000</td>\n",
              "      <td>0.000000</td>\n",
              "      <td>0.000000</td>\n",
              "      <td>0.000000</td>\n",
              "      <td>0.000000</td>\n",
              "      <td>0.0</td>\n",
              "      <td>0.000000</td>\n",
              "      <td>0.000000</td>\n",
              "    </tr>\n",
              "    <tr>\n",
              "      <th>75%</th>\n",
              "      <td>0.481481</td>\n",
              "      <td>0.487179</td>\n",
              "      <td>0.526387</td>\n",
              "      <td>1.000000</td>\n",
              "      <td>0.227778</td>\n",
              "      <td>0.455062</td>\n",
              "      <td>0.333333</td>\n",
              "      <td>2016.000000</td>\n",
              "      <td>0.421437</td>\n",
              "      <td>1.000000</td>\n",
              "      <td>...</td>\n",
              "      <td>0.000000</td>\n",
              "      <td>0.000000</td>\n",
              "      <td>0.000000</td>\n",
              "      <td>0.000000</td>\n",
              "      <td>0.000000</td>\n",
              "      <td>0.000000</td>\n",
              "      <td>1.000000</td>\n",
              "      <td>0.0</td>\n",
              "      <td>0.000000</td>\n",
              "      <td>1.000000</td>\n",
              "    </tr>\n",
              "    <tr>\n",
              "      <th>max</th>\n",
              "      <td>1.000000</td>\n",
              "      <td>1.000000</td>\n",
              "      <td>1.000000</td>\n",
              "      <td>1.000000</td>\n",
              "      <td>1.000000</td>\n",
              "      <td>1.000000</td>\n",
              "      <td>1.000000</td>\n",
              "      <td>2016.000000</td>\n",
              "      <td>1.000000</td>\n",
              "      <td>1.000000</td>\n",
              "      <td>...</td>\n",
              "      <td>1.000000</td>\n",
              "      <td>1.000000</td>\n",
              "      <td>1.000000</td>\n",
              "      <td>1.000000</td>\n",
              "      <td>1.000000</td>\n",
              "      <td>1.000000</td>\n",
              "      <td>1.000000</td>\n",
              "      <td>0.0</td>\n",
              "      <td>1.000000</td>\n",
              "      <td>1.000000</td>\n",
              "    </tr>\n",
              "  </tbody>\n",
              "</table>\n",
              "<p>8 rows × 61 columns</p>\n",
              "</div>\n",
              "      <button class=\"colab-df-convert\" onclick=\"convertToInteractive('df-fff25df2-9d94-4d73-8ce7-7554973d4ae9')\"\n",
              "              title=\"Convert this dataframe to an interactive table.\"\n",
              "              style=\"display:none;\">\n",
              "        \n",
              "  <svg xmlns=\"http://www.w3.org/2000/svg\" height=\"24px\"viewBox=\"0 0 24 24\"\n",
              "       width=\"24px\">\n",
              "    <path d=\"M0 0h24v24H0V0z\" fill=\"none\"/>\n",
              "    <path d=\"M18.56 5.44l.94 2.06.94-2.06 2.06-.94-2.06-.94-.94-2.06-.94 2.06-2.06.94zm-11 1L8.5 8.5l.94-2.06 2.06-.94-2.06-.94L8.5 2.5l-.94 2.06-2.06.94zm10 10l.94 2.06.94-2.06 2.06-.94-2.06-.94-.94-2.06-.94 2.06-2.06.94z\"/><path d=\"M17.41 7.96l-1.37-1.37c-.4-.4-.92-.59-1.43-.59-.52 0-1.04.2-1.43.59L10.3 9.45l-7.72 7.72c-.78.78-.78 2.05 0 2.83L4 21.41c.39.39.9.59 1.41.59.51 0 1.02-.2 1.41-.59l7.78-7.78 2.81-2.81c.8-.78.8-2.07 0-2.86zM5.41 20L4 18.59l7.72-7.72 1.47 1.35L5.41 20z\"/>\n",
              "  </svg>\n",
              "      </button>\n",
              "      \n",
              "  <style>\n",
              "    .colab-df-container {\n",
              "      display:flex;\n",
              "      flex-wrap:wrap;\n",
              "      gap: 12px;\n",
              "    }\n",
              "\n",
              "    .colab-df-convert {\n",
              "      background-color: #E8F0FE;\n",
              "      border: none;\n",
              "      border-radius: 50%;\n",
              "      cursor: pointer;\n",
              "      display: none;\n",
              "      fill: #1967D2;\n",
              "      height: 32px;\n",
              "      padding: 0 0 0 0;\n",
              "      width: 32px;\n",
              "    }\n",
              "\n",
              "    .colab-df-convert:hover {\n",
              "      background-color: #E2EBFA;\n",
              "      box-shadow: 0px 1px 2px rgba(60, 64, 67, 0.3), 0px 1px 3px 1px rgba(60, 64, 67, 0.15);\n",
              "      fill: #174EA6;\n",
              "    }\n",
              "\n",
              "    [theme=dark] .colab-df-convert {\n",
              "      background-color: #3B4455;\n",
              "      fill: #D2E3FC;\n",
              "    }\n",
              "\n",
              "    [theme=dark] .colab-df-convert:hover {\n",
              "      background-color: #434B5C;\n",
              "      box-shadow: 0px 1px 3px 1px rgba(0, 0, 0, 0.15);\n",
              "      filter: drop-shadow(0px 1px 2px rgba(0, 0, 0, 0.3));\n",
              "      fill: #FFFFFF;\n",
              "    }\n",
              "  </style>\n",
              "\n",
              "      <script>\n",
              "        const buttonEl =\n",
              "          document.querySelector('#df-fff25df2-9d94-4d73-8ce7-7554973d4ae9 button.colab-df-convert');\n",
              "        buttonEl.style.display =\n",
              "          google.colab.kernel.accessAllowed ? 'block' : 'none';\n",
              "\n",
              "        async function convertToInteractive(key) {\n",
              "          const element = document.querySelector('#df-fff25df2-9d94-4d73-8ce7-7554973d4ae9');\n",
              "          const dataTable =\n",
              "            await google.colab.kernel.invokeFunction('convertToInteractive',\n",
              "                                                     [key], {});\n",
              "          if (!dataTable) return;\n",
              "\n",
              "          const docLinkHtml = 'Like what you see? Visit the ' +\n",
              "            '<a target=\"_blank\" href=https://colab.research.google.com/notebooks/data_table.ipynb>data table notebook</a>'\n",
              "            + ' to learn more about interactive tables.';\n",
              "          element.innerHTML = '';\n",
              "          dataTable['output_type'] = 'display_data';\n",
              "          await google.colab.output.renderOutput(dataTable, element);\n",
              "          const docLink = document.createElement('div');\n",
              "          docLink.innerHTML = docLinkHtml;\n",
              "          element.appendChild(docLink);\n",
              "        }\n",
              "      </script>\n",
              "    </div>\n",
              "  </div>\n",
              "  "
            ]
          },
          "metadata": {},
          "execution_count": 48
        }
      ]
    },
    {
      "cell_type": "code",
      "source": [
        "#Check if data have right shape\n",
        "#Print the Train: Response Variable shape\n",
        "print(\"Train: Response Variable: \",y_upsampled_train.shape)\n",
        "#Print the Train: Feature Variable shape\n",
        "print(\"Train: Feature Variables: \",X_upsampled_train.shape)\n",
        "#Print the Test: Response Variable shape\n",
        "print(\"Test: Response Variable: \",y_test.shape)\n",
        "#Print the Test: Feature Variable shape\n",
        "print(\"Test: Feature Variables: \",X_test.shape)"
      ],
      "metadata": {
        "id": "8sezn7om1mHE",
        "colab": {
          "base_uri": "https://localhost:8080/"
        },
        "outputId": "86b55618-c1e9-4ba9-9242-85544f2d17e5"
      },
      "execution_count": null,
      "outputs": [
        {
          "output_type": "stream",
          "name": "stdout",
          "text": [
            "Train: Response Variable:  (16640,)\n",
            "Train: Feature Variables:  (16640, 61)\n",
            "Test: Response Variable:  (2140,)\n",
            "Test: Feature Variables:  (2140, 61)\n"
          ]
        }
      ]
    },
    {
      "cell_type": "code",
      "source": [
        "#Fit 'rf' to the rf_upsampled set\n",
        "rf_upsampled = RandomForestClassifier(n_estimators=25, criterion='gini')\n",
        "#Fit 'rf' to the rf_upsampled.fit training set\n",
        "rf_upsampled.fit(X_upsampled_train, y_upsampled_train)\n",
        "#Predict the test set labels 'y_pred'\n",
        "y_upsampled_pred = rf_upsampled.predict(X_test)\n",
        "#Print the model accuracy\n",
        "print(f'Model Accuracy is {accuracy_score(y_test, y_upsampled_pred)}\\n')"
      ],
      "metadata": {
        "id": "JfukOAhn1-Cj",
        "colab": {
          "base_uri": "https://localhost:8080/"
        },
        "outputId": "4dc9f3b0-3ccc-442a-839a-512376d0a596"
      },
      "execution_count": null,
      "outputs": [
        {
          "output_type": "stream",
          "name": "stdout",
          "text": [
            "Model Accuracy is 0.7593457943925234\n",
            "\n"
          ]
        }
      ]
    },
    {
      "cell_type": "markdown",
      "source": [
        "# Evaluating Model Performance\n",
        "- we will be using a confusion matrix t evaluate the performance of our model."
      ],
      "metadata": {
        "id": "5YdfnWdvCNf9"
      }
    },
    {
      "cell_type": "code",
      "metadata": {
        "scrolled": false,
        "id": "WGYd_LQ02ir8",
        "colab": {
          "base_uri": "https://localhost:8080/",
          "height": 498
        },
        "outputId": "454d13cc-964a-4974-dac7-763c3c92c7f2"
      },
      "source": [
        "#Borrowed from class notes\n",
        "#Visualize the confusion matrix to make it easier to read\n",
        "con_matrix = confusion_matrix(y_test, y_upsampled_pred)\n",
        "#Create data frame with confusion matrix labels of charged off and fully paid\n",
        "confusion_matrix_df = pd.DataFrame(con_matrix, ('Charged Off', 'Fully Paid'), ('Charged Off', 'Fully Paid'))\n",
        "#Initialize the heatmap confusion matrix\n",
        "heatmap = sns.heatmap(confusion_matrix_df, annot=True, annot_kws={\"size\": 20}, fmt=\"d\", cmap=\"Blues\")\n",
        "#Edit the y axis labels on the heatmap confusion matrix\n",
        "heatmap.yaxis.set_ticklabels(heatmap.yaxis.get_ticklabels(), rotation=0, ha='right', fontsize = 14)\n",
        "#Edit the x axis labels on the heatmap confusion matrix\n",
        "heatmap.xaxis.set_ticklabels(heatmap.xaxis.get_ticklabels(), rotation=45, ha='right', fontsize = 14)\n",
        "#Plot the y label actual on the matrix\n",
        "plt.ylabel('Actual', fontsize = 14)\n",
        "#Plot the x label predicted on the matrix\n",
        "plt.xlabel('Predicted', fontsize = 14)\n",
        "# Print the classification report\n",
        "print(classification_report(y_test, y_upsampled_pred))\n"
      ],
      "execution_count": null,
      "outputs": [
        {
          "output_type": "stream",
          "name": "stdout",
          "text": [
            "              precision    recall  f1-score   support\n",
            "\n",
            " Charged Off       0.39      0.19      0.25       468\n",
            "  Fully Paid       0.80      0.92      0.86      1672\n",
            "\n",
            "    accuracy                           0.76      2140\n",
            "   macro avg       0.60      0.55      0.55      2140\n",
            "weighted avg       0.71      0.76      0.72      2140\n",
            "\n"
          ]
        },
        {
          "output_type": "display_data",
          "data": {
            "text/plain": [
              "<Figure size 432x288 with 2 Axes>"
            ],
            "image/png": "[encoded data removed]"
          },
          "metadata": {
            "needs_background": "light"
          }
        }
      ]
    }
  ]
}